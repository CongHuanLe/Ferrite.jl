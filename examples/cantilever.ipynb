{
 "cells": [
  {
   "cell_type": "code",
   "execution_count": 1,
   "metadata": {},
   "outputs": [
    {
     "name": "stderr",
     "output_type": "stream",
     "text": [
      "\u001b[1m\u001b[34mINFO: Recompiling stale cache file /home/kristoffer/.julia/lib/v0.5/JuAFEM.ji for module JuAFEM.\n",
      "\u001b[0m"
     ]
    }
   ],
   "source": [
    "using JuAFEM\n",
    "using Tensors\n",
    "using TimerOutputs\n",
    "using UnicodePlots\n",
    "const to = TimerOutput();"
   ]
  },
  {
   "cell_type": "code",
   "execution_count": 2,
   "metadata": {
    "collapsed": true
   },
   "outputs": [],
   "source": [
    "import Base.flatten"
   ]
  },
  {
   "cell_type": "code",
   "execution_count": 3,
   "metadata": {
    "scrolled": true
   },
   "outputs": [],
   "source": [
    "const dim = 3\n",
    "corner1 = Vec{dim}((0.0, 0.0, 0.0))\n",
    "corner2 = Vec{dim}((10.0, 1.0, 1.0))\n",
    "grid = generate_grid(Tetrahedron, (60, 6, 6), corner1, corner2);\n",
    "# Extract the left boundary\n",
    "addnodeset!(grid, \"clamped\", x -> norm(x[1]) ≈ 0.0);"
   ]
  },
  {
   "cell_type": "code",
   "execution_count": 4,
   "metadata": {},
   "outputs": [],
   "source": [
    "# Interpolations and values\n",
    "interpolation_space = Lagrange{dim, RefTetrahedron, 1}()\n",
    "quadrature_rule = QuadratureRule{dim, RefTetrahedron}(1)\n",
    "cellvalues = CellVectorValues(quadrature_rule, interpolation_space);\n",
    "facevalues = FaceVectorValues(QuadratureRule{dim-1, RefTetrahedron}(1), interpolation_space);"
   ]
  },
  {
   "cell_type": "code",
   "execution_count": 5,
   "metadata": {},
   "outputs": [
    {
     "data": {
      "text/plain": [
       "DofHandler\n",
       "  Fields:\n",
       "    u dim: 3\n",
       "  Total dofs: 8967\n",
       "  Dofs per cell: 12"
      ]
     },
     "execution_count": 5,
     "metadata": {},
     "output_type": "execute_result"
    }
   ],
   "source": [
    "# DofHandler\n",
    "dh = DofHandler(grid)\n",
    "push!(dh, :u, dim) # Add a displacement field\n",
    "close!(dh)"
   ]
  },
  {
   "cell_type": "code",
   "execution_count": 26,
   "metadata": {},
   "outputs": [
    {
     "name": "stdout",
     "output_type": "stream",
     "text": [
      "  0.129785 seconds (30 allocations: 65.718 MB, 68.56% gc time)\n"
     ]
    },
    {
     "data": {
      "text/plain": [
       "\u001b[1m\u001b[37m                     Sparsity Pattern\n",
       "\u001b[0m\u001b[1m\u001b[37m        ┌──────────────────────────────────────────┐\u001b[0m    \n",
       "      \u001b[1m\u001b[37m1\u001b[0m\u001b[1m\u001b[37m │\u001b[0m\u001b[1m\u001b[31m⢿\u001b[0m\u001b[1m\u001b[31m⣷\u001b[0m\u001b[1m\u001b[31m⣄\u001b[0m\u001b[1m\u001b[37m⠀\u001b[0m\u001b[1m\u001b[37m⠀\u001b[0m\u001b[1m\u001b[37m⠀\u001b[0m\u001b[1m\u001b[31m⢿\u001b[0m\u001b[1m\u001b[31m⣷\u001b[0m\u001b[1m\u001b[31m⣄\u001b[0m\u001b[1m\u001b[37m⠀\u001b[0m\u001b[1m\u001b[37m⠀\u001b[0m\u001b[1m\u001b[37m⠀\u001b[0m\u001b[1m\u001b[37m⠀\u001b[0m\u001b[1m\u001b[37m⠀\u001b[0m\u001b[1m\u001b[37m⠀\u001b[0m\u001b[1m\u001b[37m⠀\u001b[0m\u001b[1m\u001b[37m⠀\u001b[0m\u001b[1m\u001b[37m⠀\u001b[0m\u001b[1m\u001b[37m⠀\u001b[0m\u001b[1m\u001b[37m⠀\u001b[0m\u001b[1m\u001b[37m⠀\u001b[0m\u001b[1m\u001b[37m⠀\u001b[0m\u001b[1m\u001b[37m⠀\u001b[0m\u001b[1m\u001b[37m⠀\u001b[0m\u001b[1m\u001b[37m⠀\u001b[0m\u001b[1m\u001b[37m⠀\u001b[0m\u001b[1m\u001b[37m⠀\u001b[0m\u001b[1m\u001b[37m⠀\u001b[0m\u001b[1m\u001b[37m⠀\u001b[0m\u001b[1m\u001b[37m⠀\u001b[0m\u001b[1m\u001b[37m⠀\u001b[0m\u001b[1m\u001b[37m⠀\u001b[0m\u001b[1m\u001b[37m⠀\u001b[0m\u001b[1m\u001b[37m⠀\u001b[0m\u001b[1m\u001b[37m⠀\u001b[0m\u001b[1m\u001b[37m⠀\u001b[0m\u001b[1m\u001b[37m⠀\u001b[0m\u001b[1m\u001b[37m⠀\u001b[0m\u001b[1m\u001b[37m⠀\u001b[0m\u001b[1m\u001b[37m⠀\u001b[0m\u001b[1m\u001b[37m⠀\u001b[0m\u001b[1m\u001b[37m⠀\u001b[0m\u001b[1m\u001b[37m│\u001b[0m \u001b[1m\u001b[31m> 0\u001b[0m\n",
       "       \u001b[1m\u001b[37m\u001b[0m\u001b[1m\u001b[37m │\u001b[0m\u001b[1m\u001b[37m⠀\u001b[0m\u001b[1m\u001b[31m⠙\u001b[0m\u001b[1m\u001b[31m⢿\u001b[0m\u001b[1m\u001b[31m⣷\u001b[0m\u001b[1m\u001b[31m⣄\u001b[0m\u001b[1m\u001b[37m⠀\u001b[0m\u001b[1m\u001b[37m⠀\u001b[0m\u001b[1m\u001b[31m⠙\u001b[0m\u001b[1m\u001b[31m⢿\u001b[0m\u001b[1m\u001b[31m⣷\u001b[0m\u001b[1m\u001b[31m⣄\u001b[0m\u001b[1m\u001b[37m⠀\u001b[0m\u001b[1m\u001b[37m⠀\u001b[0m\u001b[1m\u001b[37m⠀\u001b[0m\u001b[1m\u001b[37m⠀\u001b[0m\u001b[1m\u001b[37m⠀\u001b[0m\u001b[1m\u001b[37m⠀\u001b[0m\u001b[1m\u001b[37m⠀\u001b[0m\u001b[1m\u001b[37m⠀\u001b[0m\u001b[1m\u001b[37m⠀\u001b[0m\u001b[1m\u001b[37m⠀\u001b[0m\u001b[1m\u001b[37m⠀\u001b[0m\u001b[1m\u001b[37m⠀\u001b[0m\u001b[1m\u001b[37m⠀\u001b[0m\u001b[1m\u001b[37m⠀\u001b[0m\u001b[1m\u001b[37m⠀\u001b[0m\u001b[1m\u001b[37m⠀\u001b[0m\u001b[1m\u001b[37m⠀\u001b[0m\u001b[1m\u001b[37m⠀\u001b[0m\u001b[1m\u001b[37m⠀\u001b[0m\u001b[1m\u001b[37m⠀\u001b[0m\u001b[1m\u001b[37m⠀\u001b[0m\u001b[1m\u001b[37m⠀\u001b[0m\u001b[1m\u001b[37m⠀\u001b[0m\u001b[1m\u001b[37m⠀\u001b[0m\u001b[1m\u001b[37m⠀\u001b[0m\u001b[1m\u001b[37m⠀\u001b[0m\u001b[1m\u001b[37m⠀\u001b[0m\u001b[1m\u001b[37m⠀\u001b[0m\u001b[1m\u001b[37m⠀\u001b[0m\u001b[1m\u001b[37m⠀\u001b[0m\u001b[1m\u001b[37m⠀\u001b[0m\u001b[1m\u001b[37m│\u001b[0m \u001b[1m\u001b[34m< 0\u001b[0m\n",
       "       \u001b[1m\u001b[37m\u001b[0m\u001b[1m\u001b[37m │\u001b[0m\u001b[1m\u001b[37m⠀\u001b[0m\u001b[1m\u001b[37m⠀\u001b[0m\u001b[1m\u001b[37m⠀\u001b[0m\u001b[1m\u001b[31m⠙\u001b[0m\u001b[1m\u001b[31m⢿\u001b[0m\u001b[1m\u001b[31m⣷\u001b[0m\u001b[1m\u001b[37m⠀\u001b[0m\u001b[1m\u001b[37m⠀\u001b[0m\u001b[1m\u001b[37m⠀\u001b[0m\u001b[1m\u001b[31m⠙\u001b[0m\u001b[1m\u001b[31m⢿\u001b[0m\u001b[1m\u001b[31m⣷\u001b[0m\u001b[1m\u001b[37m⠀\u001b[0m\u001b[1m\u001b[37m⠀\u001b[0m\u001b[1m\u001b[37m⠀\u001b[0m\u001b[1m\u001b[37m⠀\u001b[0m\u001b[1m\u001b[37m⠀\u001b[0m\u001b[1m\u001b[37m⠀\u001b[0m\u001b[1m\u001b[37m⠀\u001b[0m\u001b[1m\u001b[37m⠀\u001b[0m\u001b[1m\u001b[37m⠀\u001b[0m\u001b[1m\u001b[37m⠀\u001b[0m\u001b[1m\u001b[37m⠀\u001b[0m\u001b[1m\u001b[37m⠀\u001b[0m\u001b[1m\u001b[37m⠀\u001b[0m\u001b[1m\u001b[37m⠀\u001b[0m\u001b[1m\u001b[37m⠀\u001b[0m\u001b[1m\u001b[37m⠀\u001b[0m\u001b[1m\u001b[37m⠀\u001b[0m\u001b[1m\u001b[37m⠀\u001b[0m\u001b[1m\u001b[37m⠀\u001b[0m\u001b[1m\u001b[37m⠀\u001b[0m\u001b[1m\u001b[37m⠀\u001b[0m\u001b[1m\u001b[37m⠀\u001b[0m\u001b[1m\u001b[37m⠀\u001b[0m\u001b[1m\u001b[37m⠀\u001b[0m\u001b[1m\u001b[37m⠀\u001b[0m\u001b[1m\u001b[37m⠀\u001b[0m\u001b[1m\u001b[37m⠀\u001b[0m\u001b[1m\u001b[37m⠀\u001b[0m\u001b[1m\u001b[37m⠀\u001b[0m\u001b[1m\u001b[37m⠀\u001b[0m\u001b[1m\u001b[37m│\u001b[0m \u001b[1m\u001b[37m\u001b[0m   \n",
       "       \u001b[1m\u001b[37m\u001b[0m\u001b[1m\u001b[37m │\u001b[0m\u001b[1m\u001b[31m⢿\u001b[0m\u001b[1m\u001b[31m⣷\u001b[0m\u001b[1m\u001b[31m⣄\u001b[0m\u001b[1m\u001b[37m⠀\u001b[0m\u001b[1m\u001b[37m⠀\u001b[0m\u001b[1m\u001b[37m⠀\u001b[0m\u001b[1m\u001b[31m⢿\u001b[0m\u001b[1m\u001b[31m⣷\u001b[0m\u001b[1m\u001b[31m⣄\u001b[0m\u001b[1m\u001b[37m⠀\u001b[0m\u001b[1m\u001b[37m⠀\u001b[0m\u001b[1m\u001b[37m⠀\u001b[0m\u001b[1m\u001b[31m⢿\u001b[0m\u001b[1m\u001b[31m⣷\u001b[0m\u001b[1m\u001b[31m⣄\u001b[0m\u001b[1m\u001b[37m⠀\u001b[0m\u001b[1m\u001b[37m⠀\u001b[0m\u001b[1m\u001b[37m⠀\u001b[0m\u001b[1m\u001b[37m⠀\u001b[0m\u001b[1m\u001b[37m⠀\u001b[0m\u001b[1m\u001b[37m⠀\u001b[0m\u001b[1m\u001b[37m⠀\u001b[0m\u001b[1m\u001b[37m⠀\u001b[0m\u001b[1m\u001b[37m⠀\u001b[0m\u001b[1m\u001b[37m⠀\u001b[0m\u001b[1m\u001b[37m⠀\u001b[0m\u001b[1m\u001b[37m⠀\u001b[0m\u001b[1m\u001b[37m⠀\u001b[0m\u001b[1m\u001b[37m⠀\u001b[0m\u001b[1m\u001b[37m⠀\u001b[0m\u001b[1m\u001b[37m⠀\u001b[0m\u001b[1m\u001b[37m⠀\u001b[0m\u001b[1m\u001b[37m⠀\u001b[0m\u001b[1m\u001b[37m⠀\u001b[0m\u001b[1m\u001b[37m⠀\u001b[0m\u001b[1m\u001b[37m⠀\u001b[0m\u001b[1m\u001b[37m⠀\u001b[0m\u001b[1m\u001b[37m⠀\u001b[0m\u001b[1m\u001b[37m⠀\u001b[0m\u001b[1m\u001b[37m⠀\u001b[0m\u001b[1m\u001b[37m⠀\u001b[0m\u001b[1m\u001b[37m⠀\u001b[0m\u001b[1m\u001b[37m│\u001b[0m \u001b[1m\u001b[37m\u001b[0m   \n",
       "       \u001b[1m\u001b[37m\u001b[0m\u001b[1m\u001b[37m │\u001b[0m\u001b[1m\u001b[37m⠀\u001b[0m\u001b[1m\u001b[31m⠙\u001b[0m\u001b[1m\u001b[31m⢿\u001b[0m\u001b[1m\u001b[31m⣷\u001b[0m\u001b[1m\u001b[31m⣄\u001b[0m\u001b[1m\u001b[37m⠀\u001b[0m\u001b[1m\u001b[37m⠀\u001b[0m\u001b[1m\u001b[31m⠙\u001b[0m\u001b[1m\u001b[31m⢿\u001b[0m\u001b[1m\u001b[31m⣷\u001b[0m\u001b[1m\u001b[31m⣄\u001b[0m\u001b[1m\u001b[37m⠀\u001b[0m\u001b[1m\u001b[37m⠀\u001b[0m\u001b[1m\u001b[31m⠙\u001b[0m\u001b[1m\u001b[31m⢿\u001b[0m\u001b[1m\u001b[31m⣷\u001b[0m\u001b[1m\u001b[31m⣄\u001b[0m\u001b[1m\u001b[37m⠀\u001b[0m\u001b[1m\u001b[37m⠀\u001b[0m\u001b[1m\u001b[37m⠀\u001b[0m\u001b[1m\u001b[37m⠀\u001b[0m\u001b[1m\u001b[37m⠀\u001b[0m\u001b[1m\u001b[37m⠀\u001b[0m\u001b[1m\u001b[37m⠀\u001b[0m\u001b[1m\u001b[37m⠀\u001b[0m\u001b[1m\u001b[37m⠀\u001b[0m\u001b[1m\u001b[37m⠀\u001b[0m\u001b[1m\u001b[37m⠀\u001b[0m\u001b[1m\u001b[37m⠀\u001b[0m\u001b[1m\u001b[37m⠀\u001b[0m\u001b[1m\u001b[37m⠀\u001b[0m\u001b[1m\u001b[37m⠀\u001b[0m\u001b[1m\u001b[37m⠀\u001b[0m\u001b[1m\u001b[37m⠀\u001b[0m\u001b[1m\u001b[37m⠀\u001b[0m\u001b[1m\u001b[37m⠀\u001b[0m\u001b[1m\u001b[37m⠀\u001b[0m\u001b[1m\u001b[37m⠀\u001b[0m\u001b[1m\u001b[37m⠀\u001b[0m\u001b[1m\u001b[37m⠀\u001b[0m\u001b[1m\u001b[37m⠀\u001b[0m\u001b[1m\u001b[37m⠀\u001b[0m\u001b[1m\u001b[37m│\u001b[0m \u001b[1m\u001b[37m\u001b[0m   \n",
       "       \u001b[1m\u001b[37m\u001b[0m\u001b[1m\u001b[37m │\u001b[0m\u001b[1m\u001b[37m⠀\u001b[0m\u001b[1m\u001b[37m⠀\u001b[0m\u001b[1m\u001b[37m⠀\u001b[0m\u001b[1m\u001b[31m⠙\u001b[0m\u001b[1m\u001b[31m⢿\u001b[0m\u001b[1m\u001b[31m⣷\u001b[0m\u001b[1m\u001b[37m⠀\u001b[0m\u001b[1m\u001b[37m⠀\u001b[0m\u001b[1m\u001b[37m⠀\u001b[0m\u001b[1m\u001b[31m⠙\u001b[0m\u001b[1m\u001b[31m⢿\u001b[0m\u001b[1m\u001b[31m⣷\u001b[0m\u001b[1m\u001b[37m⠀\u001b[0m\u001b[1m\u001b[37m⠀\u001b[0m\u001b[1m\u001b[37m⠀\u001b[0m\u001b[1m\u001b[31m⠙\u001b[0m\u001b[1m\u001b[31m⢿\u001b[0m\u001b[1m\u001b[31m⣷\u001b[0m\u001b[1m\u001b[37m⠀\u001b[0m\u001b[1m\u001b[37m⠀\u001b[0m\u001b[1m\u001b[37m⠀\u001b[0m\u001b[1m\u001b[37m⠀\u001b[0m\u001b[1m\u001b[37m⠀\u001b[0m\u001b[1m\u001b[37m⠀\u001b[0m\u001b[1m\u001b[37m⠀\u001b[0m\u001b[1m\u001b[37m⠀\u001b[0m\u001b[1m\u001b[37m⠀\u001b[0m\u001b[1m\u001b[37m⠀\u001b[0m\u001b[1m\u001b[37m⠀\u001b[0m\u001b[1m\u001b[37m⠀\u001b[0m\u001b[1m\u001b[37m⠀\u001b[0m\u001b[1m\u001b[37m⠀\u001b[0m\u001b[1m\u001b[37m⠀\u001b[0m\u001b[1m\u001b[37m⠀\u001b[0m\u001b[1m\u001b[37m⠀\u001b[0m\u001b[1m\u001b[37m⠀\u001b[0m\u001b[1m\u001b[37m⠀\u001b[0m\u001b[1m\u001b[37m⠀\u001b[0m\u001b[1m\u001b[37m⠀\u001b[0m\u001b[1m\u001b[37m⠀\u001b[0m\u001b[1m\u001b[37m⠀\u001b[0m\u001b[1m\u001b[37m⠀\u001b[0m\u001b[1m\u001b[37m│\u001b[0m \u001b[1m\u001b[37m\u001b[0m   \n",
       "       \u001b[1m\u001b[37m\u001b[0m\u001b[1m\u001b[37m │\u001b[0m\u001b[1m\u001b[37m⠀\u001b[0m\u001b[1m\u001b[37m⠀\u001b[0m\u001b[1m\u001b[37m⠀\u001b[0m\u001b[1m\u001b[37m⠀\u001b[0m\u001b[1m\u001b[37m⠀\u001b[0m\u001b[1m\u001b[37m⠀\u001b[0m\u001b[1m\u001b[31m⢿\u001b[0m\u001b[1m\u001b[31m⣷\u001b[0m\u001b[1m\u001b[31m⣄\u001b[0m\u001b[1m\u001b[37m⠀\u001b[0m\u001b[1m\u001b[37m⠀\u001b[0m\u001b[1m\u001b[37m⠀\u001b[0m\u001b[1m\u001b[31m⢿\u001b[0m\u001b[1m\u001b[31m⣷\u001b[0m\u001b[1m\u001b[31m⣄\u001b[0m\u001b[1m\u001b[37m⠀\u001b[0m\u001b[1m\u001b[37m⠀\u001b[0m\u001b[1m\u001b[37m⠀\u001b[0m\u001b[1m\u001b[31m⢿\u001b[0m\u001b[1m\u001b[31m⣷\u001b[0m\u001b[1m\u001b[31m⣄\u001b[0m\u001b[1m\u001b[37m⠀\u001b[0m\u001b[1m\u001b[37m⠀\u001b[0m\u001b[1m\u001b[37m⠀\u001b[0m\u001b[1m\u001b[37m⠀\u001b[0m\u001b[1m\u001b[37m⠀\u001b[0m\u001b[1m\u001b[37m⠀\u001b[0m\u001b[1m\u001b[37m⠀\u001b[0m\u001b[1m\u001b[37m⠀\u001b[0m\u001b[1m\u001b[37m⠀\u001b[0m\u001b[1m\u001b[37m⠀\u001b[0m\u001b[1m\u001b[37m⠀\u001b[0m\u001b[1m\u001b[37m⠀\u001b[0m\u001b[1m\u001b[37m⠀\u001b[0m\u001b[1m\u001b[37m⠀\u001b[0m\u001b[1m\u001b[37m⠀\u001b[0m\u001b[1m\u001b[37m⠀\u001b[0m\u001b[1m\u001b[37m⠀\u001b[0m\u001b[1m\u001b[37m⠀\u001b[0m\u001b[1m\u001b[37m⠀\u001b[0m\u001b[1m\u001b[37m⠀\u001b[0m\u001b[1m\u001b[37m⠀\u001b[0m\u001b[1m\u001b[37m│\u001b[0m \u001b[1m\u001b[37m\u001b[0m   \n",
       "       \u001b[1m\u001b[37m\u001b[0m\u001b[1m\u001b[37m │\u001b[0m\u001b[1m\u001b[37m⠀\u001b[0m\u001b[1m\u001b[37m⠀\u001b[0m\u001b[1m\u001b[37m⠀\u001b[0m\u001b[1m\u001b[37m⠀\u001b[0m\u001b[1m\u001b[37m⠀\u001b[0m\u001b[1m\u001b[37m⠀\u001b[0m\u001b[1m\u001b[37m⠀\u001b[0m\u001b[1m\u001b[31m⠙\u001b[0m\u001b[1m\u001b[31m⢿\u001b[0m\u001b[1m\u001b[31m⣷\u001b[0m\u001b[1m\u001b[31m⣄\u001b[0m\u001b[1m\u001b[37m⠀\u001b[0m\u001b[1m\u001b[37m⠀\u001b[0m\u001b[1m\u001b[31m⠙\u001b[0m\u001b[1m\u001b[31m⢿\u001b[0m\u001b[1m\u001b[31m⣷\u001b[0m\u001b[1m\u001b[31m⣄\u001b[0m\u001b[1m\u001b[37m⠀\u001b[0m\u001b[1m\u001b[37m⠀\u001b[0m\u001b[1m\u001b[31m⠙\u001b[0m\u001b[1m\u001b[31m⢿\u001b[0m\u001b[1m\u001b[31m⣷\u001b[0m\u001b[1m\u001b[31m⣄\u001b[0m\u001b[1m\u001b[37m⠀\u001b[0m\u001b[1m\u001b[37m⠀\u001b[0m\u001b[1m\u001b[37m⠀\u001b[0m\u001b[1m\u001b[37m⠀\u001b[0m\u001b[1m\u001b[37m⠀\u001b[0m\u001b[1m\u001b[37m⠀\u001b[0m\u001b[1m\u001b[37m⠀\u001b[0m\u001b[1m\u001b[37m⠀\u001b[0m\u001b[1m\u001b[37m⠀\u001b[0m\u001b[1m\u001b[37m⠀\u001b[0m\u001b[1m\u001b[37m⠀\u001b[0m\u001b[1m\u001b[37m⠀\u001b[0m\u001b[1m\u001b[37m⠀\u001b[0m\u001b[1m\u001b[37m⠀\u001b[0m\u001b[1m\u001b[37m⠀\u001b[0m\u001b[1m\u001b[37m⠀\u001b[0m\u001b[1m\u001b[37m⠀\u001b[0m\u001b[1m\u001b[37m⠀\u001b[0m\u001b[1m\u001b[37m⠀\u001b[0m\u001b[1m\u001b[37m│\u001b[0m \u001b[1m\u001b[37m\u001b[0m   \n",
       "       \u001b[1m\u001b[37m\u001b[0m\u001b[1m\u001b[37m │\u001b[0m\u001b[1m\u001b[37m⠀\u001b[0m\u001b[1m\u001b[37m⠀\u001b[0m\u001b[1m\u001b[37m⠀\u001b[0m\u001b[1m\u001b[37m⠀\u001b[0m\u001b[1m\u001b[37m⠀\u001b[0m\u001b[1m\u001b[37m⠀\u001b[0m\u001b[1m\u001b[37m⠀\u001b[0m\u001b[1m\u001b[37m⠀\u001b[0m\u001b[1m\u001b[37m⠀\u001b[0m\u001b[1m\u001b[31m⠙\u001b[0m\u001b[1m\u001b[31m⢿\u001b[0m\u001b[1m\u001b[31m⣷\u001b[0m\u001b[1m\u001b[37m⠀\u001b[0m\u001b[1m\u001b[37m⠀\u001b[0m\u001b[1m\u001b[37m⠀\u001b[0m\u001b[1m\u001b[31m⠙\u001b[0m\u001b[1m\u001b[31m⢿\u001b[0m\u001b[1m\u001b[31m⣷\u001b[0m\u001b[1m\u001b[37m⠀\u001b[0m\u001b[1m\u001b[37m⠀\u001b[0m\u001b[1m\u001b[37m⠀\u001b[0m\u001b[1m\u001b[31m⠙\u001b[0m\u001b[1m\u001b[31m⢿\u001b[0m\u001b[1m\u001b[31m⣷\u001b[0m\u001b[1m\u001b[37m⠀\u001b[0m\u001b[1m\u001b[37m⠀\u001b[0m\u001b[1m\u001b[37m⠀\u001b[0m\u001b[1m\u001b[37m⠀\u001b[0m\u001b[1m\u001b[37m⠀\u001b[0m\u001b[1m\u001b[37m⠀\u001b[0m\u001b[1m\u001b[37m⠀\u001b[0m\u001b[1m\u001b[37m⠀\u001b[0m\u001b[1m\u001b[37m⠀\u001b[0m\u001b[1m\u001b[37m⠀\u001b[0m\u001b[1m\u001b[37m⠀\u001b[0m\u001b[1m\u001b[37m⠀\u001b[0m\u001b[1m\u001b[37m⠀\u001b[0m\u001b[1m\u001b[37m⠀\u001b[0m\u001b[1m\u001b[37m⠀\u001b[0m\u001b[1m\u001b[37m⠀\u001b[0m\u001b[1m\u001b[37m⠀\u001b[0m\u001b[1m\u001b[37m⠀\u001b[0m\u001b[1m\u001b[37m│\u001b[0m \u001b[1m\u001b[37m\u001b[0m   \n",
       "       \u001b[1m\u001b[37m\u001b[0m\u001b[1m\u001b[37m │\u001b[0m\u001b[1m\u001b[37m⠀\u001b[0m\u001b[1m\u001b[37m⠀\u001b[0m\u001b[1m\u001b[37m⠀\u001b[0m\u001b[1m\u001b[37m⠀\u001b[0m\u001b[1m\u001b[37m⠀\u001b[0m\u001b[1m\u001b[37m⠀\u001b[0m\u001b[1m\u001b[37m⠀\u001b[0m\u001b[1m\u001b[37m⠀\u001b[0m\u001b[1m\u001b[37m⠀\u001b[0m\u001b[1m\u001b[37m⠀\u001b[0m\u001b[1m\u001b[37m⠀\u001b[0m\u001b[1m\u001b[37m⠀\u001b[0m\u001b[1m\u001b[31m⢿\u001b[0m\u001b[1m\u001b[31m⣷\u001b[0m\u001b[1m\u001b[31m⣄\u001b[0m\u001b[1m\u001b[37m⠀\u001b[0m\u001b[1m\u001b[37m⠀\u001b[0m\u001b[1m\u001b[37m⠀\u001b[0m\u001b[1m\u001b[31m⢿\u001b[0m\u001b[1m\u001b[31m⣷\u001b[0m\u001b[1m\u001b[31m⣄\u001b[0m\u001b[1m\u001b[37m⠀\u001b[0m\u001b[1m\u001b[37m⠀\u001b[0m\u001b[1m\u001b[37m⠀\u001b[0m\u001b[1m\u001b[31m⢿\u001b[0m\u001b[1m\u001b[31m⣷\u001b[0m\u001b[1m\u001b[31m⣄\u001b[0m\u001b[1m\u001b[37m⠀\u001b[0m\u001b[1m\u001b[37m⠀\u001b[0m\u001b[1m\u001b[37m⠀\u001b[0m\u001b[1m\u001b[37m⠀\u001b[0m\u001b[1m\u001b[37m⠀\u001b[0m\u001b[1m\u001b[37m⠀\u001b[0m\u001b[1m\u001b[37m⠀\u001b[0m\u001b[1m\u001b[37m⠀\u001b[0m\u001b[1m\u001b[37m⠀\u001b[0m\u001b[1m\u001b[37m⠀\u001b[0m\u001b[1m\u001b[37m⠀\u001b[0m\u001b[1m\u001b[37m⠀\u001b[0m\u001b[1m\u001b[37m⠀\u001b[0m\u001b[1m\u001b[37m⠀\u001b[0m\u001b[1m\u001b[37m⠀\u001b[0m\u001b[1m\u001b[37m│\u001b[0m \u001b[1m\u001b[37m\u001b[0m   \n",
       "   \u001b[1m\u001b[37m\u001b[0m    \u001b[1m\u001b[37m\u001b[0m\u001b[1m\u001b[37m │\u001b[0m\u001b[1m\u001b[37m⠀\u001b[0m\u001b[1m\u001b[37m⠀\u001b[0m\u001b[1m\u001b[37m⠀\u001b[0m\u001b[1m\u001b[37m⠀\u001b[0m\u001b[1m\u001b[37m⠀\u001b[0m\u001b[1m\u001b[37m⠀\u001b[0m\u001b[1m\u001b[37m⠀\u001b[0m\u001b[1m\u001b[37m⠀\u001b[0m\u001b[1m\u001b[37m⠀\u001b[0m\u001b[1m\u001b[37m⠀\u001b[0m\u001b[1m\u001b[37m⠀\u001b[0m\u001b[1m\u001b[37m⠀\u001b[0m\u001b[1m\u001b[37m⠀\u001b[0m\u001b[1m\u001b[31m⠙\u001b[0m\u001b[1m\u001b[31m⢿\u001b[0m\u001b[1m\u001b[31m⣷\u001b[0m\u001b[1m\u001b[31m⣄\u001b[0m\u001b[1m\u001b[37m⠀\u001b[0m\u001b[1m\u001b[37m⠀\u001b[0m\u001b[1m\u001b[31m⠙\u001b[0m\u001b[1m\u001b[31m⢿\u001b[0m\u001b[1m\u001b[31m⣷\u001b[0m\u001b[1m\u001b[31m⣄\u001b[0m\u001b[1m\u001b[37m⠀\u001b[0m\u001b[1m\u001b[37m⠀\u001b[0m\u001b[1m\u001b[31m⠙\u001b[0m\u001b[1m\u001b[31m⢿\u001b[0m\u001b[1m\u001b[31m⣷\u001b[0m\u001b[1m\u001b[31m⣄\u001b[0m\u001b[1m\u001b[37m⠀\u001b[0m\u001b[1m\u001b[37m⠀\u001b[0m\u001b[1m\u001b[37m⠀\u001b[0m\u001b[1m\u001b[37m⠀\u001b[0m\u001b[1m\u001b[37m⠀\u001b[0m\u001b[1m\u001b[37m⠀\u001b[0m\u001b[1m\u001b[37m⠀\u001b[0m\u001b[1m\u001b[37m⠀\u001b[0m\u001b[1m\u001b[37m⠀\u001b[0m\u001b[1m\u001b[37m⠀\u001b[0m\u001b[1m\u001b[37m⠀\u001b[0m\u001b[1m\u001b[37m⠀\u001b[0m\u001b[1m\u001b[37m⠀\u001b[0m\u001b[1m\u001b[37m│\u001b[0m \u001b[1m\u001b[37m\u001b[0m   \n",
       "       \u001b[1m\u001b[37m\u001b[0m\u001b[1m\u001b[37m │\u001b[0m\u001b[1m\u001b[37m⠀\u001b[0m\u001b[1m\u001b[37m⠀\u001b[0m\u001b[1m\u001b[37m⠀\u001b[0m\u001b[1m\u001b[37m⠀\u001b[0m\u001b[1m\u001b[37m⠀\u001b[0m\u001b[1m\u001b[37m⠀\u001b[0m\u001b[1m\u001b[37m⠀\u001b[0m\u001b[1m\u001b[37m⠀\u001b[0m\u001b[1m\u001b[37m⠀\u001b[0m\u001b[1m\u001b[37m⠀\u001b[0m\u001b[1m\u001b[37m⠀\u001b[0m\u001b[1m\u001b[37m⠀\u001b[0m\u001b[1m\u001b[37m⠀\u001b[0m\u001b[1m\u001b[37m⠀\u001b[0m\u001b[1m\u001b[37m⠀\u001b[0m\u001b[1m\u001b[31m⠙\u001b[0m\u001b[1m\u001b[31m⢿\u001b[0m\u001b[1m\u001b[31m⣷\u001b[0m\u001b[1m\u001b[37m⠀\u001b[0m\u001b[1m\u001b[37m⠀\u001b[0m\u001b[1m\u001b[37m⠀\u001b[0m\u001b[1m\u001b[31m⠙\u001b[0m\u001b[1m\u001b[31m⢿\u001b[0m\u001b[1m\u001b[31m⣷\u001b[0m\u001b[1m\u001b[37m⠀\u001b[0m\u001b[1m\u001b[37m⠀\u001b[0m\u001b[1m\u001b[37m⠀\u001b[0m\u001b[1m\u001b[31m⠙\u001b[0m\u001b[1m\u001b[31m⢿\u001b[0m\u001b[1m\u001b[31m⣷\u001b[0m\u001b[1m\u001b[37m⠀\u001b[0m\u001b[1m\u001b[37m⠀\u001b[0m\u001b[1m\u001b[37m⠀\u001b[0m\u001b[1m\u001b[37m⠀\u001b[0m\u001b[1m\u001b[37m⠀\u001b[0m\u001b[1m\u001b[37m⠀\u001b[0m\u001b[1m\u001b[37m⠀\u001b[0m\u001b[1m\u001b[37m⠀\u001b[0m\u001b[1m\u001b[37m⠀\u001b[0m\u001b[1m\u001b[37m⠀\u001b[0m\u001b[1m\u001b[37m⠀\u001b[0m\u001b[1m\u001b[37m⠀\u001b[0m\u001b[1m\u001b[37m│\u001b[0m \u001b[1m\u001b[37m\u001b[0m   \n",
       "       \u001b[1m\u001b[37m\u001b[0m\u001b[1m\u001b[37m │\u001b[0m\u001b[1m\u001b[37m⠀\u001b[0m\u001b[1m\u001b[37m⠀\u001b[0m\u001b[1m\u001b[37m⠀\u001b[0m\u001b[1m\u001b[37m⠀\u001b[0m\u001b[1m\u001b[37m⠀\u001b[0m\u001b[1m\u001b[37m⠀\u001b[0m\u001b[1m\u001b[37m⠀\u001b[0m\u001b[1m\u001b[37m⠀\u001b[0m\u001b[1m\u001b[37m⠀\u001b[0m\u001b[1m\u001b[37m⠀\u001b[0m\u001b[1m\u001b[37m⠀\u001b[0m\u001b[1m\u001b[37m⠀\u001b[0m\u001b[1m\u001b[37m⠀\u001b[0m\u001b[1m\u001b[37m⠀\u001b[0m\u001b[1m\u001b[37m⠀\u001b[0m\u001b[1m\u001b[37m⠀\u001b[0m\u001b[1m\u001b[37m⠀\u001b[0m\u001b[1m\u001b[37m⠀\u001b[0m\u001b[1m\u001b[31m⢿\u001b[0m\u001b[1m\u001b[31m⣷\u001b[0m\u001b[1m\u001b[31m⣄\u001b[0m\u001b[1m\u001b[37m⠀\u001b[0m\u001b[1m\u001b[37m⠀\u001b[0m\u001b[1m\u001b[37m⠀\u001b[0m\u001b[1m\u001b[31m⢿\u001b[0m\u001b[1m\u001b[31m⣷\u001b[0m\u001b[1m\u001b[31m⣄\u001b[0m\u001b[1m\u001b[37m⠀\u001b[0m\u001b[1m\u001b[37m⠀\u001b[0m\u001b[1m\u001b[37m⠀\u001b[0m\u001b[1m\u001b[31m⢿\u001b[0m\u001b[1m\u001b[31m⣷\u001b[0m\u001b[1m\u001b[31m⣄\u001b[0m\u001b[1m\u001b[37m⠀\u001b[0m\u001b[1m\u001b[37m⠀\u001b[0m\u001b[1m\u001b[37m⠀\u001b[0m\u001b[1m\u001b[37m⠀\u001b[0m\u001b[1m\u001b[37m⠀\u001b[0m\u001b[1m\u001b[37m⠀\u001b[0m\u001b[1m\u001b[37m⠀\u001b[0m\u001b[1m\u001b[37m⠀\u001b[0m\u001b[1m\u001b[37m⠀\u001b[0m\u001b[1m\u001b[37m│\u001b[0m \u001b[1m\u001b[37m\u001b[0m   \n",
       "       \u001b[1m\u001b[37m\u001b[0m\u001b[1m\u001b[37m │\u001b[0m\u001b[1m\u001b[37m⠀\u001b[0m\u001b[1m\u001b[37m⠀\u001b[0m\u001b[1m\u001b[37m⠀\u001b[0m\u001b[1m\u001b[37m⠀\u001b[0m\u001b[1m\u001b[37m⠀\u001b[0m\u001b[1m\u001b[37m⠀\u001b[0m\u001b[1m\u001b[37m⠀\u001b[0m\u001b[1m\u001b[37m⠀\u001b[0m\u001b[1m\u001b[37m⠀\u001b[0m\u001b[1m\u001b[37m⠀\u001b[0m\u001b[1m\u001b[37m⠀\u001b[0m\u001b[1m\u001b[37m⠀\u001b[0m\u001b[1m\u001b[37m⠀\u001b[0m\u001b[1m\u001b[37m⠀\u001b[0m\u001b[1m\u001b[37m⠀\u001b[0m\u001b[1m\u001b[37m⠀\u001b[0m\u001b[1m\u001b[37m⠀\u001b[0m\u001b[1m\u001b[37m⠀\u001b[0m\u001b[1m\u001b[37m⠀\u001b[0m\u001b[1m\u001b[31m⠙\u001b[0m\u001b[1m\u001b[31m⢿\u001b[0m\u001b[1m\u001b[31m⣷\u001b[0m\u001b[1m\u001b[31m⣄\u001b[0m\u001b[1m\u001b[37m⠀\u001b[0m\u001b[1m\u001b[37m⠀\u001b[0m\u001b[1m\u001b[31m⠙\u001b[0m\u001b[1m\u001b[31m⢿\u001b[0m\u001b[1m\u001b[31m⣷\u001b[0m\u001b[1m\u001b[31m⣄\u001b[0m\u001b[1m\u001b[37m⠀\u001b[0m\u001b[1m\u001b[37m⠀\u001b[0m\u001b[1m\u001b[31m⠙\u001b[0m\u001b[1m\u001b[31m⢿\u001b[0m\u001b[1m\u001b[31m⣷\u001b[0m\u001b[1m\u001b[31m⣄\u001b[0m\u001b[1m\u001b[37m⠀\u001b[0m\u001b[1m\u001b[37m⠀\u001b[0m\u001b[1m\u001b[37m⠀\u001b[0m\u001b[1m\u001b[37m⠀\u001b[0m\u001b[1m\u001b[37m⠀\u001b[0m\u001b[1m\u001b[37m⠀\u001b[0m\u001b[1m\u001b[37m⠀\u001b[0m\u001b[1m\u001b[37m│\u001b[0m \u001b[1m\u001b[37m\u001b[0m   \n",
       "       \u001b[1m\u001b[37m\u001b[0m\u001b[1m\u001b[37m │\u001b[0m\u001b[1m\u001b[37m⠀\u001b[0m\u001b[1m\u001b[37m⠀\u001b[0m\u001b[1m\u001b[37m⠀\u001b[0m\u001b[1m\u001b[37m⠀\u001b[0m\u001b[1m\u001b[37m⠀\u001b[0m\u001b[1m\u001b[37m⠀\u001b[0m\u001b[1m\u001b[37m⠀\u001b[0m\u001b[1m\u001b[37m⠀\u001b[0m\u001b[1m\u001b[37m⠀\u001b[0m\u001b[1m\u001b[37m⠀\u001b[0m\u001b[1m\u001b[37m⠀\u001b[0m\u001b[1m\u001b[37m⠀\u001b[0m\u001b[1m\u001b[37m⠀\u001b[0m\u001b[1m\u001b[37m⠀\u001b[0m\u001b[1m\u001b[37m⠀\u001b[0m\u001b[1m\u001b[37m⠀\u001b[0m\u001b[1m\u001b[37m⠀\u001b[0m\u001b[1m\u001b[37m⠀\u001b[0m\u001b[1m\u001b[37m⠀\u001b[0m\u001b[1m\u001b[37m⠀\u001b[0m\u001b[1m\u001b[37m⠀\u001b[0m\u001b[1m\u001b[31m⠙\u001b[0m\u001b[1m\u001b[31m⢿\u001b[0m\u001b[1m\u001b[31m⣷\u001b[0m\u001b[1m\u001b[37m⠀\u001b[0m\u001b[1m\u001b[37m⠀\u001b[0m\u001b[1m\u001b[37m⠀\u001b[0m\u001b[1m\u001b[31m⠙\u001b[0m\u001b[1m\u001b[31m⢿\u001b[0m\u001b[1m\u001b[31m⣷\u001b[0m\u001b[1m\u001b[37m⠀\u001b[0m\u001b[1m\u001b[37m⠀\u001b[0m\u001b[1m\u001b[37m⠀\u001b[0m\u001b[1m\u001b[31m⠙\u001b[0m\u001b[1m\u001b[31m⢿\u001b[0m\u001b[1m\u001b[31m⣷\u001b[0m\u001b[1m\u001b[37m⠀\u001b[0m\u001b[1m\u001b[37m⠀\u001b[0m\u001b[1m\u001b[37m⠀\u001b[0m\u001b[1m\u001b[37m⠀\u001b[0m\u001b[1m\u001b[37m⠀\u001b[0m\u001b[1m\u001b[37m⠀\u001b[0m\u001b[1m\u001b[37m│\u001b[0m \u001b[1m\u001b[37m\u001b[0m   \n",
       "       \u001b[1m\u001b[37m\u001b[0m\u001b[1m\u001b[37m │\u001b[0m\u001b[1m\u001b[37m⠀\u001b[0m\u001b[1m\u001b[37m⠀\u001b[0m\u001b[1m\u001b[37m⠀\u001b[0m\u001b[1m\u001b[37m⠀\u001b[0m\u001b[1m\u001b[37m⠀\u001b[0m\u001b[1m\u001b[37m⠀\u001b[0m\u001b[1m\u001b[37m⠀\u001b[0m\u001b[1m\u001b[37m⠀\u001b[0m\u001b[1m\u001b[37m⠀\u001b[0m\u001b[1m\u001b[37m⠀\u001b[0m\u001b[1m\u001b[37m⠀\u001b[0m\u001b[1m\u001b[37m⠀\u001b[0m\u001b[1m\u001b[37m⠀\u001b[0m\u001b[1m\u001b[37m⠀\u001b[0m\u001b[1m\u001b[37m⠀\u001b[0m\u001b[1m\u001b[37m⠀\u001b[0m\u001b[1m\u001b[37m⠀\u001b[0m\u001b[1m\u001b[37m⠀\u001b[0m\u001b[1m\u001b[37m⠀\u001b[0m\u001b[1m\u001b[37m⠀\u001b[0m\u001b[1m\u001b[37m⠀\u001b[0m\u001b[1m\u001b[37m⠀\u001b[0m\u001b[1m\u001b[37m⠀\u001b[0m\u001b[1m\u001b[37m⠀\u001b[0m\u001b[1m\u001b[31m⢿\u001b[0m\u001b[1m\u001b[31m⣷\u001b[0m\u001b[1m\u001b[31m⣄\u001b[0m\u001b[1m\u001b[37m⠀\u001b[0m\u001b[1m\u001b[37m⠀\u001b[0m\u001b[1m\u001b[37m⠀\u001b[0m\u001b[1m\u001b[31m⢿\u001b[0m\u001b[1m\u001b[31m⣷\u001b[0m\u001b[1m\u001b[31m⣄\u001b[0m\u001b[1m\u001b[37m⠀\u001b[0m\u001b[1m\u001b[37m⠀\u001b[0m\u001b[1m\u001b[37m⠀\u001b[0m\u001b[1m\u001b[31m⢿\u001b[0m\u001b[1m\u001b[31m⣷\u001b[0m\u001b[1m\u001b[31m⣄\u001b[0m\u001b[1m\u001b[37m⠀\u001b[0m\u001b[1m\u001b[37m⠀\u001b[0m\u001b[1m\u001b[37m⠀\u001b[0m\u001b[1m\u001b[37m│\u001b[0m \u001b[1m\u001b[37m\u001b[0m   \n",
       "       \u001b[1m\u001b[37m\u001b[0m\u001b[1m\u001b[37m │\u001b[0m\u001b[1m\u001b[37m⠀\u001b[0m\u001b[1m\u001b[37m⠀\u001b[0m\u001b[1m\u001b[37m⠀\u001b[0m\u001b[1m\u001b[37m⠀\u001b[0m\u001b[1m\u001b[37m⠀\u001b[0m\u001b[1m\u001b[37m⠀\u001b[0m\u001b[1m\u001b[37m⠀\u001b[0m\u001b[1m\u001b[37m⠀\u001b[0m\u001b[1m\u001b[37m⠀\u001b[0m\u001b[1m\u001b[37m⠀\u001b[0m\u001b[1m\u001b[37m⠀\u001b[0m\u001b[1m\u001b[37m⠀\u001b[0m\u001b[1m\u001b[37m⠀\u001b[0m\u001b[1m\u001b[37m⠀\u001b[0m\u001b[1m\u001b[37m⠀\u001b[0m\u001b[1m\u001b[37m⠀\u001b[0m\u001b[1m\u001b[37m⠀\u001b[0m\u001b[1m\u001b[37m⠀\u001b[0m\u001b[1m\u001b[37m⠀\u001b[0m\u001b[1m\u001b[37m⠀\u001b[0m\u001b[1m\u001b[37m⠀\u001b[0m\u001b[1m\u001b[37m⠀\u001b[0m\u001b[1m\u001b[37m⠀\u001b[0m\u001b[1m\u001b[37m⠀\u001b[0m\u001b[1m\u001b[37m⠀\u001b[0m\u001b[1m\u001b[31m⠙\u001b[0m\u001b[1m\u001b[31m⢿\u001b[0m\u001b[1m\u001b[31m⣷\u001b[0m\u001b[1m\u001b[31m⣄\u001b[0m\u001b[1m\u001b[37m⠀\u001b[0m\u001b[1m\u001b[37m⠀\u001b[0m\u001b[1m\u001b[31m⠙\u001b[0m\u001b[1m\u001b[31m⢿\u001b[0m\u001b[1m\u001b[31m⣷\u001b[0m\u001b[1m\u001b[31m⣄\u001b[0m\u001b[1m\u001b[37m⠀\u001b[0m\u001b[1m\u001b[37m⠀\u001b[0m\u001b[1m\u001b[31m⠙\u001b[0m\u001b[1m\u001b[31m⢿\u001b[0m\u001b[1m\u001b[31m⣷\u001b[0m\u001b[1m\u001b[31m⣄\u001b[0m\u001b[1m\u001b[37m⠀\u001b[0m\u001b[1m\u001b[37m│\u001b[0m \u001b[1m\u001b[37m\u001b[0m   \n",
       "       \u001b[1m\u001b[37m\u001b[0m\u001b[1m\u001b[37m │\u001b[0m\u001b[1m\u001b[37m⠀\u001b[0m\u001b[1m\u001b[37m⠀\u001b[0m\u001b[1m\u001b[37m⠀\u001b[0m\u001b[1m\u001b[37m⠀\u001b[0m\u001b[1m\u001b[37m⠀\u001b[0m\u001b[1m\u001b[37m⠀\u001b[0m\u001b[1m\u001b[37m⠀\u001b[0m\u001b[1m\u001b[37m⠀\u001b[0m\u001b[1m\u001b[37m⠀\u001b[0m\u001b[1m\u001b[37m⠀\u001b[0m\u001b[1m\u001b[37m⠀\u001b[0m\u001b[1m\u001b[37m⠀\u001b[0m\u001b[1m\u001b[37m⠀\u001b[0m\u001b[1m\u001b[37m⠀\u001b[0m\u001b[1m\u001b[37m⠀\u001b[0m\u001b[1m\u001b[37m⠀\u001b[0m\u001b[1m\u001b[37m⠀\u001b[0m\u001b[1m\u001b[37m⠀\u001b[0m\u001b[1m\u001b[37m⠀\u001b[0m\u001b[1m\u001b[37m⠀\u001b[0m\u001b[1m\u001b[37m⠀\u001b[0m\u001b[1m\u001b[37m⠀\u001b[0m\u001b[1m\u001b[37m⠀\u001b[0m\u001b[1m\u001b[37m⠀\u001b[0m\u001b[1m\u001b[37m⠀\u001b[0m\u001b[1m\u001b[37m⠀\u001b[0m\u001b[1m\u001b[37m⠀\u001b[0m\u001b[1m\u001b[31m⠙\u001b[0m\u001b[1m\u001b[31m⢿\u001b[0m\u001b[1m\u001b[31m⣷\u001b[0m\u001b[1m\u001b[37m⠀\u001b[0m\u001b[1m\u001b[37m⠀\u001b[0m\u001b[1m\u001b[37m⠀\u001b[0m\u001b[1m\u001b[31m⠙\u001b[0m\u001b[1m\u001b[31m⢿\u001b[0m\u001b[1m\u001b[31m⣷\u001b[0m\u001b[1m\u001b[37m⠀\u001b[0m\u001b[1m\u001b[37m⠀\u001b[0m\u001b[1m\u001b[37m⠀\u001b[0m\u001b[1m\u001b[31m⠙\u001b[0m\u001b[1m\u001b[31m⢿\u001b[0m\u001b[1m\u001b[31m⣷\u001b[0m\u001b[1m\u001b[37m│\u001b[0m \u001b[1m\u001b[37m\u001b[0m   \n",
       "       \u001b[1m\u001b[37m\u001b[0m\u001b[1m\u001b[37m │\u001b[0m\u001b[1m\u001b[37m⠀\u001b[0m\u001b[1m\u001b[37m⠀\u001b[0m\u001b[1m\u001b[37m⠀\u001b[0m\u001b[1m\u001b[37m⠀\u001b[0m\u001b[1m\u001b[37m⠀\u001b[0m\u001b[1m\u001b[37m⠀\u001b[0m\u001b[1m\u001b[37m⠀\u001b[0m\u001b[1m\u001b[37m⠀\u001b[0m\u001b[1m\u001b[37m⠀\u001b[0m\u001b[1m\u001b[37m⠀\u001b[0m\u001b[1m\u001b[37m⠀\u001b[0m\u001b[1m\u001b[37m⠀\u001b[0m\u001b[1m\u001b[37m⠀\u001b[0m\u001b[1m\u001b[37m⠀\u001b[0m\u001b[1m\u001b[37m⠀\u001b[0m\u001b[1m\u001b[37m⠀\u001b[0m\u001b[1m\u001b[37m⠀\u001b[0m\u001b[1m\u001b[37m⠀\u001b[0m\u001b[1m\u001b[37m⠀\u001b[0m\u001b[1m\u001b[37m⠀\u001b[0m\u001b[1m\u001b[37m⠀\u001b[0m\u001b[1m\u001b[37m⠀\u001b[0m\u001b[1m\u001b[37m⠀\u001b[0m\u001b[1m\u001b[37m⠀\u001b[0m\u001b[1m\u001b[37m⠀\u001b[0m\u001b[1m\u001b[37m⠀\u001b[0m\u001b[1m\u001b[37m⠀\u001b[0m\u001b[1m\u001b[37m⠀\u001b[0m\u001b[1m\u001b[37m⠀\u001b[0m\u001b[1m\u001b[37m⠀\u001b[0m\u001b[1m\u001b[31m⢿\u001b[0m\u001b[1m\u001b[31m⣷\u001b[0m\u001b[1m\u001b[31m⣄\u001b[0m\u001b[1m\u001b[37m⠀\u001b[0m\u001b[1m\u001b[37m⠀\u001b[0m\u001b[1m\u001b[37m⠀\u001b[0m\u001b[1m\u001b[31m⢿\u001b[0m\u001b[1m\u001b[31m⣷\u001b[0m\u001b[1m\u001b[31m⣄\u001b[0m\u001b[1m\u001b[37m⠀\u001b[0m\u001b[1m\u001b[37m⠀\u001b[0m\u001b[1m\u001b[37m⠀\u001b[0m\u001b[1m\u001b[37m│\u001b[0m \u001b[1m\u001b[37m\u001b[0m   \n",
       "       \u001b[1m\u001b[37m\u001b[0m\u001b[1m\u001b[37m │\u001b[0m\u001b[1m\u001b[37m⠀\u001b[0m\u001b[1m\u001b[37m⠀\u001b[0m\u001b[1m\u001b[37m⠀\u001b[0m\u001b[1m\u001b[37m⠀\u001b[0m\u001b[1m\u001b[37m⠀\u001b[0m\u001b[1m\u001b[37m⠀\u001b[0m\u001b[1m\u001b[37m⠀\u001b[0m\u001b[1m\u001b[37m⠀\u001b[0m\u001b[1m\u001b[37m⠀\u001b[0m\u001b[1m\u001b[37m⠀\u001b[0m\u001b[1m\u001b[37m⠀\u001b[0m\u001b[1m\u001b[37m⠀\u001b[0m\u001b[1m\u001b[37m⠀\u001b[0m\u001b[1m\u001b[37m⠀\u001b[0m\u001b[1m\u001b[37m⠀\u001b[0m\u001b[1m\u001b[37m⠀\u001b[0m\u001b[1m\u001b[37m⠀\u001b[0m\u001b[1m\u001b[37m⠀\u001b[0m\u001b[1m\u001b[37m⠀\u001b[0m\u001b[1m\u001b[37m⠀\u001b[0m\u001b[1m\u001b[37m⠀\u001b[0m\u001b[1m\u001b[37m⠀\u001b[0m\u001b[1m\u001b[37m⠀\u001b[0m\u001b[1m\u001b[37m⠀\u001b[0m\u001b[1m\u001b[37m⠀\u001b[0m\u001b[1m\u001b[37m⠀\u001b[0m\u001b[1m\u001b[37m⠀\u001b[0m\u001b[1m\u001b[37m⠀\u001b[0m\u001b[1m\u001b[37m⠀\u001b[0m\u001b[1m\u001b[37m⠀\u001b[0m\u001b[1m\u001b[37m⠀\u001b[0m\u001b[1m\u001b[31m⠙\u001b[0m\u001b[1m\u001b[31m⢿\u001b[0m\u001b[1m\u001b[31m⣷\u001b[0m\u001b[1m\u001b[31m⣄\u001b[0m\u001b[1m\u001b[37m⠀\u001b[0m\u001b[1m\u001b[37m⠀\u001b[0m\u001b[1m\u001b[31m⠙\u001b[0m\u001b[1m\u001b[31m⢿\u001b[0m\u001b[1m\u001b[31m⣷\u001b[0m\u001b[1m\u001b[31m⣄\u001b[0m\u001b[1m\u001b[37m⠀\u001b[0m\u001b[1m\u001b[37m│\u001b[0m \u001b[1m\u001b[37m\u001b[0m   \n",
       "   \u001b[1m\u001b[37m8967\u001b[0m\u001b[1m\u001b[37m │\u001b[0m\u001b[1m\u001b[37m⠀\u001b[0m\u001b[1m\u001b[37m⠀\u001b[0m\u001b[1m\u001b[37m⠀\u001b[0m\u001b[1m\u001b[37m⠀\u001b[0m\u001b[1m\u001b[37m⠀\u001b[0m\u001b[1m\u001b[37m⠀\u001b[0m\u001b[1m\u001b[37m⠀\u001b[0m\u001b[1m\u001b[37m⠀\u001b[0m\u001b[1m\u001b[37m⠀\u001b[0m\u001b[1m\u001b[37m⠀\u001b[0m\u001b[1m\u001b[37m⠀\u001b[0m\u001b[1m\u001b[37m⠀\u001b[0m\u001b[1m\u001b[37m⠀\u001b[0m\u001b[1m\u001b[37m⠀\u001b[0m\u001b[1m\u001b[37m⠀\u001b[0m\u001b[1m\u001b[37m⠀\u001b[0m\u001b[1m\u001b[37m⠀\u001b[0m\u001b[1m\u001b[37m⠀\u001b[0m\u001b[1m\u001b[37m⠀\u001b[0m\u001b[1m\u001b[37m⠀\u001b[0m\u001b[1m\u001b[37m⠀\u001b[0m\u001b[1m\u001b[37m⠀\u001b[0m\u001b[1m\u001b[37m⠀\u001b[0m\u001b[1m\u001b[37m⠀\u001b[0m\u001b[1m\u001b[37m⠀\u001b[0m\u001b[1m\u001b[37m⠀\u001b[0m\u001b[1m\u001b[37m⠀\u001b[0m\u001b[1m\u001b[37m⠀\u001b[0m\u001b[1m\u001b[37m⠀\u001b[0m\u001b[1m\u001b[37m⠀\u001b[0m\u001b[1m\u001b[37m⠀\u001b[0m\u001b[1m\u001b[37m⠀\u001b[0m\u001b[1m\u001b[37m⠀\u001b[0m\u001b[1m\u001b[31m⠙\u001b[0m\u001b[1m\u001b[31m⢿\u001b[0m\u001b[1m\u001b[31m⣷\u001b[0m\u001b[1m\u001b[37m⠀\u001b[0m\u001b[1m\u001b[37m⠀\u001b[0m\u001b[1m\u001b[37m⠀\u001b[0m\u001b[1m\u001b[31m⠙\u001b[0m\u001b[1m\u001b[31m⢿\u001b[0m\u001b[1m\u001b[31m⣷\u001b[0m\u001b[1m\u001b[37m│\u001b[0m \u001b[1m\u001b[37m\u001b[0m   \n",
       "\u001b[1m\u001b[37m        └──────────────────────────────────────────┘\u001b[0m    \n",
       "\u001b[1m\u001b[37m        1\u001b[0m\u001b[1m\u001b[37m                    \u001b[0m\u001b[1m\u001b[37m                   8967\n",
       "\u001b[0m\u001b[1m\u001b[37m                        nz = 405333\n",
       "\u001b[0m"
      ]
     },
     "execution_count": 26,
     "metadata": {},
     "output_type": "execute_result"
    }
   ],
   "source": [
    "@time K = create_sparsity_pattern(dh);\n",
    "fill!(K.nzval, 1.0);\n",
    "spy(K)"
   ]
  },
  {
   "cell_type": "code",
   "execution_count": 7,
   "metadata": {},
   "outputs": [],
   "source": [
    "# Boundaryconditions\n",
    "dbc = DirichletBoundaryConditions(dh)\n",
    "# Add a homogenoush boundary condition on the \"clamped\" edge\n",
    "add!(dbc, :u, getnodeset(grid, \"clamped\"), (x,t) -> [0.0, 0.0, 0.0], collect(1:dim))\n",
    "close!(dbc)\n",
    "t = 0.0\n",
    "update!(dbc, t)"
   ]
  },
  {
   "cell_type": "code",
   "execution_count": 8,
   "metadata": {},
   "outputs": [],
   "source": [
    "# Create the stiffness tensor\n",
    "E = 200e9\n",
    "ν = 0.3\n",
    "λ = E*ν / ((1+ν) * (1 - 2ν))\n",
    "μ = E / (2(1+ν))\n",
    "δ(i,j) = i == j ? 1.0 : 0.0\n",
    "g(i,j,k,l) = λ*δ(i,j)*δ(k,l) + μ*(δ(i,k)*δ(j,l) + δ(i,l)*δ(j,k))\n",
    "C = SymmetricTensor{4, dim}(g);"
   ]
  },
  {
   "cell_type": "code",
   "execution_count": 9,
   "metadata": {},
   "outputs": [
    {
     "data": {
      "text/plain": [
       "doassemble (generic function with 1 method)"
      ]
     },
     "execution_count": 9,
     "metadata": {},
     "output_type": "execute_result"
    }
   ],
   "source": [
    "function doassemble{dim}(cellvalues::CellVectorValues{dim}, facevalues::FaceVectorValues{dim}, \n",
    "                         K::SparseMatrixCSC, grid::Grid, dh::DofHandler, C::SymmetricTensor{4, dim})\n",
    "\n",
    "    \n",
    "    fill!(K.nzval, 0.0)\n",
    "    f = zeros(ndofs(dh))\n",
    "    assembler = start_assemble(K, f)\n",
    "    \n",
    "    n_basefuncs = getnbasefunctions(cellvalues)\n",
    "    global_dofs = zeros(Int, ndofs_per_cell(dh))\n",
    "\n",
    "    fe = zeros(n_basefuncs) # Local force vector\n",
    "    Ke = zeros(n_basefuncs, n_basefuncs) # Local stiffness mastrix\n",
    "    \n",
    "    t = Vec{3}((0.0, 1e8, 0.0)) # Traction vector\n",
    "    b = Vec{3}((0.0, 0.0, 0.0)) # Body force\n",
    "\n",
    "    ɛ = [zero(SymmetricTensor{2, dim}) for i in 1:n_basefuncs]\n",
    "    @inbounds for (cellcount, cell) in enumerate(CellIterator(dh))\n",
    "        @timeit to \"assem\" begin\n",
    "        fill!(Ke, 0)\n",
    "        fill!(fe, 0)\n",
    "        \n",
    "        reinit!(cellvalues, cell)\n",
    "        for q_point in 1:getnquadpoints(cellvalues)\n",
    "            for i in 1:n_basefuncs\n",
    "                ɛ[i] = symmetric(shape_gradient(cellvalues, q_point, i)) \n",
    "            end\n",
    "            dΩ = getdetJdV(cellvalues, q_point)\n",
    "            for i in 1:n_basefuncs\n",
    "                δu = shape_value(cellvalues, q_point, i)\n",
    "                fe[i] += (δu ⋅ b) * dΩ\n",
    "                ɛC = ɛ[i] ⊡ C\n",
    "                for j in 1:n_basefuncs\n",
    "                    Ke[i, j] += (ɛC ⊡ ɛ[j]) * dΩ\n",
    "                end\n",
    "            end\n",
    "        end\n",
    "        \n",
    "        for face in 1:nfaces(cell)\n",
    "            if onboundary(cell, face) && (cellcount, face) ∈ getfaceset(grid, \"right\")\n",
    "                reinit!(facevalues, cell, face)\n",
    "                for q_point in 1:getnquadpoints(facevalues)\n",
    "                    dΓ = getdetJdV(facevalues, q_point)\n",
    "                    for i in 1:n_basefuncs\n",
    "                        δu = shape_value(facevalues, q_point, i)\n",
    "                        fe[i] += (δu ⋅ t) * dΓ\n",
    "                    end\n",
    "                end\n",
    "            end\n",
    "        end\n",
    "        celldofs!(global_dofs, cell)\n",
    "        assemble!(assembler, fe, Ke, global_dofs)\n",
    "        end # timer\n",
    "    end\n",
    "    return K, f\n",
    "end"
   ]
  },
  {
   "cell_type": "code",
   "execution_count": 27,
   "metadata": {},
   "outputs": [
    {
     "name": "stdout",
     "output_type": "stream",
     "text": [
      " \u001b[1m------------------------------------------------------------------\u001b[22m\n",
      "                           Time                   Allocations      \n",
      "                   ----------------------   -----------------------\n",
      " Tot / % measured:     27.1ms / 91.2%           4.32MiB / 87.0%    \n",
      "\n",
      " Section   ncalls     time   %tot     avg     alloc   %tot      avg\n",
      " ------------------------------------------------------------------\n",
      " assem      10.8k   24.7ms   100%  2.29μs   3.76MiB  100%      365B\n",
      " \u001b[1m------------------------------------------------------------------\u001b[22m"
     ]
    }
   ],
   "source": [
    "reset_timer!(to)\n",
    "K, f = doassemble(cellvalues, facevalues, K, grid, dh, C);\n",
    "print_timer(to; linechars = :ascii)"
   ]
  },
  {
   "cell_type": "code",
   "execution_count": 28,
   "metadata": {},
   "outputs": [],
   "source": [
    "# Modify K and f such that K \\ f gives correct boundary conditions\n",
    "apply!(K, f, dbc)"
   ]
  },
  {
   "cell_type": "code",
   "execution_count": 32,
   "metadata": {},
   "outputs": [
    {
     "name": "stdout",
     "output_type": "stream",
     "text": [
      "  0.090020 seconds (65 allocations: 45.675 MB, 3.28% gc time)\n"
     ]
    }
   ],
   "source": [
    "@time u = cholfact(Symmetric(K)) \\ f;"
   ]
  },
  {
   "cell_type": "code",
   "execution_count": 30,
   "metadata": {},
   "outputs": [
    {
     "data": {
      "text/plain": [
       "1-element Array{String,1}:\n",
       " \"cantilever.vtu\""
      ]
     },
     "execution_count": 30,
     "metadata": {},
     "output_type": "execute_result"
    }
   ],
   "source": [
    "# Save file\n",
    "vtkfile = vtk_grid(\"cantilever\", dh, u)\n",
    "vtk_save(vtkfile)"
   ]
  },
  {
   "cell_type": "code",
   "execution_count": 31,
   "metadata": {},
   "outputs": [
    {
     "name": "stdout",
     "output_type": "stream",
     "text": [
      "Cantilever successful\n"
     ]
    }
   ],
   "source": [
    "Base.Test.@test maximum(u)  ≈ 1.919600482922295\n",
    "println(\"Cantilever successful\")"
   ]
  }
 ],
 "metadata": {
  "anaconda-cloud": {},
  "kernelspec": {
   "display_name": "Julia 0.5.1",
   "language": "julia",
   "name": "julia-0.5"
  },
  "language_info": {
   "file_extension": ".jl",
   "mimetype": "application/julia",
   "name": "julia",
   "version": "0.5.1"
  }
 },
 "nbformat": 4,
 "nbformat_minor": 1
}
