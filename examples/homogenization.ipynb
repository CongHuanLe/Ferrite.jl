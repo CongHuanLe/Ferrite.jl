{
 "cells": [
  {
   "cell_type": "code",
   "execution_count": 1,
   "metadata": {
    "collapsed": false,
    "deletable": true,
    "editable": true
   },
   "outputs": [],
   "source": [
    "using JuAFEM\n",
    "using Tensors\n",
    "using TimerOutputs\n",
    "using UnicodePlots\n",
    "const to = TimerOutput();"
   ]
  },
  {
   "cell_type": "markdown",
   "metadata": {
    "deletable": true,
    "editable": true
   },
   "source": [
    "## Homogenization"
   ]
  },
  {
   "cell_type": "markdown",
   "metadata": {
    "deletable": true,
    "editable": true
   },
   "source": [
    "We consider the equation\n",
    "\n",
    "$$\\sigma \\cdot \\nabla = 0$$\n",
    "\n",
    "together with the constraint\n",
    "\n",
    "$$ \\langle \\epsilon[u] \\rangle = \\overline{\\epsilon}$$ \n",
    "\n",
    "where $\\overline{\\epsilon}$ is prescribed and \n",
    "\n",
    "$$ \\langle f \\rangle = \\frac{1}{|\\Omega|}  \\int_\\Omega f d \\Omega $$"
   ]
  },
  {
   "cell_type": "code",
   "execution_count": 2,
   "metadata": {
    "collapsed": false,
    "deletable": true,
    "editable": true
   },
   "outputs": [
    {
     "data": {
      "text/plain": [
       "3"
      ]
     },
     "execution_count": 2,
     "metadata": {},
     "output_type": "execute_result"
    }
   ],
   "source": [
    "GEOSHAPE = Tetrahedron\n",
    "REFSHAPE = RefTetrahedron\n",
    "QUADRATURE_ORDER = 2\n",
    "DIM = 3"
   ]
  },
  {
   "cell_type": "code",
   "execution_count": 3,
   "metadata": {
    "collapsed": false,
    "deletable": true,
    "editable": true
   },
   "outputs": [
    {
     "data": {
      "text/plain": [
       "compute_grid (generic function with 1 method)"
      ]
     },
     "execution_count": 3,
     "metadata": {},
     "output_type": "execute_result"
    }
   ],
   "source": [
    "function compute_grid(n, f)\n",
    "    dim = 3\n",
    "    grid = generate_grid(GEOSHAPE, (10, 10, 10));\n",
    "    # Extract the left boundary\n",
    "    addnodeset!(grid, \"clamped\", f);\n",
    "end"
   ]
  },
  {
   "cell_type": "code",
   "execution_count": 4,
   "metadata": {
    "collapsed": false,
    "deletable": true,
    "editable": true
   },
   "outputs": [
    {
     "data": {
      "text/plain": [
       "create_interpolations (generic function with 1 method)"
      ]
     },
     "execution_count": 4,
     "metadata": {},
     "output_type": "execute_result"
    }
   ],
   "source": [
    "# Interpolations and values\n",
    "function create_interpolations()\n",
    "    interpolation_space = Lagrange{DIM, REFSHAPE, 1}()\n",
    "    quadrature_rule = QuadratureRule{DIM, REFSHAPE}(QUADRATURE_ORDER)\n",
    "    face_quadrature_rule = QuadratureRule{DIM-1, REFSHAPE}(QUADRATURE_ORDER)\n",
    "    cellvalues = CellVectorValues(quadrature_rule, interpolation_space);\n",
    "    facevalues = FaceVectorValues(face_quadrature_rule , interpolation_space);\n",
    "    return cellvalues, facevalues\n",
    "end"
   ]
  },
  {
   "cell_type": "code",
   "execution_count": 5,
   "metadata": {
    "collapsed": false,
    "deletable": true,
    "editable": true
   },
   "outputs": [
    {
     "data": {
      "text/plain": [
       "create_dofhandler (generic function with 1 method)"
      ]
     },
     "execution_count": 5,
     "metadata": {},
     "output_type": "execute_result"
    }
   ],
   "source": [
    "function create_dofhandler(grid)\n",
    "    # DofHandler\n",
    "    dh = DofHandler(grid)\n",
    "    push!(dh, :u, DIM) # Add a displacement field\n",
    "    close!(dh)\n",
    "    return dh\n",
    "end"
   ]
  },
  {
   "cell_type": "code",
   "execution_count": 6,
   "metadata": {
    "collapsed": false,
    "deletable": true,
    "editable": true
   },
   "outputs": [
    {
     "data": {
      "text/plain": [
       "create_boundaryconditions (generic function with 1 method)"
      ]
     },
     "execution_count": 6,
     "metadata": {},
     "output_type": "execute_result"
    }
   ],
   "source": [
    "function create_boundaryconditions(grid, dh, f)\n",
    "    # Boundaryconditions\n",
    "    dbc = DirichletBoundaryConditions(dh)\n",
    "    # Add a homogenoush boundary condition on the \"clamped\" edge\n",
    "    add!(dbc, :u, getnodeset(grid, \"clamped\"), f, collect(1:DIM))\n",
    "    close!(dbc)\n",
    "    t = 0.0\n",
    "    update!(dbc, t)\n",
    "    return dbc\n",
    "end"
   ]
  },
  {
   "cell_type": "code",
   "execution_count": 7,
   "metadata": {
    "collapsed": false,
    "deletable": true,
    "editable": true
   },
   "outputs": [
    {
     "data": {
      "text/plain": [
       "create_stiffness (generic function with 3 methods)"
      ]
     },
     "execution_count": 7,
     "metadata": {},
     "output_type": "execute_result"
    }
   ],
   "source": [
    "# Create the stiffness tensor\n",
    "function create_stiffness(Emod = 200e9, ν = 0.3)\n",
    "    λ = Emod*ν / ((1+ν) * (1 - 2ν))\n",
    "    μ = Emod / (2(1+ν))\n",
    "    δ(i,j) = i == j ? 1.0 : 0.0\n",
    "    g(i,j,k,l) = λ*δ(i,j)*δ(k,l) + μ*(δ(i,k)*δ(j,l) + δ(i,l)*δ(j,k))\n",
    "    E = SymmetricTensor{4, DIM}(g)\n",
    "    return E\n",
    "end"
   ]
  },
  {
   "cell_type": "code",
   "execution_count": 8,
   "metadata": {
    "collapsed": false,
    "deletable": true,
    "editable": true
   },
   "outputs": [
    {
     "data": {
      "text/plain": [
       "doassemble3! (generic function with 1 method)"
      ]
     },
     "execution_count": 8,
     "metadata": {},
     "output_type": "execute_result"
    }
   ],
   "source": [
    "function doassemble3!{dim}(cellvalues::CellVectorValues{dim}, facevalues::FaceValues,\n",
    "                           K::SparseMatrixCSC, grid::Grid, dh::DofHandler, E::SymmetricTensor{4, dim})\n",
    "\n",
    "    f = zeros(ndofs(dh))\n",
    "    C = zeros(ndofs(dh), 9)\n",
    "    assembler = start_assemble(K, f)\n",
    "    \n",
    "    n_basefuncs = getnbasefunctions(cellvalues)\n",
    "    global_dofs = zeros(Int, ndofs_per_cell(dh))\n",
    "\n",
    "    Ke = zeros(n_basefuncs, n_basefuncs) # Local stiffness mastrix\n",
    "    Ce = zeros(n_basefuncs, 9)\n",
    "    Ω = 8\n",
    "\n",
    "    δɛ = [zero(SymmetricTensor{2, dim}) for i in 1:n_basefuncs]\n",
    "    ∇δu = [zero(Tensor{2, dim}) for i in 1:n_basefuncs]\n",
    "\n",
    "    @inbounds for  cell in CellIterator(dh)\n",
    "        fill!(Ke, 0)\n",
    "        fill!(Ce, 0)\n",
    "        reinit!(cellvalues, cell)\n",
    "        for q_point in 1:getnquadpoints(cellvalues)\n",
    "            for i in 1:n_basefuncs\n",
    "                δɛ[i] = symmetric(shape_gradient(cellvalues, q_point, i))\n",
    "                ∇δu[i] = shape_gradient(cellvalues, q_point, i)\n",
    "            end\n",
    "            dΩ = getdetJdV(cellvalues, q_point)\n",
    "            for i in 1:n_basefuncs\n",
    "                #Ce[i, :] += -1 / Ω * tovoigt(∇δu[i]) * dΩ\n",
    "                δɛC = δɛ[i] ⊡ E\n",
    "                for j in 1:n_basefuncs\n",
    "                    Ke[i, j] += 1/Ω * (δɛC ⊡ δɛ[j]) * dΩ\n",
    "                end\n",
    "            end\n",
    "        end\n",
    "        \n",
    "        for face in 1:nfaces(cell)\n",
    "            if onboundary(cell, face)\n",
    "                reinit!(facevalues, cell, face)\n",
    "                for q_point in 1:getnquadpoints(facevalues)\n",
    "                    dΓ = getdetJdV(facevalues, q_point)\n",
    "                    n = getnormal(facevalues, q_point)\n",
    "                    for i in 1:n_basefuncs\n",
    "                        δu = shape_value(facevalues, q_point, i)\n",
    "                        Ce[i, :] += -1 / Ω * tovoigt((δu ⊗ n) * dΓ)\n",
    "                    end\n",
    "                end\n",
    "            end\n",
    "        end\n",
    "        \n",
    "        celldofs!(global_dofs, cell)\n",
    "        for (i, dof) in enumerate(global_dofs)\n",
    "            C[dof, :] += Ce[i, :]\n",
    "        end\n",
    "        assemble!(assembler, Ke, global_dofs)\n",
    "    end\n",
    "    return f, C\n",
    "end"
   ]
  },
  {
   "cell_type": "code",
   "execution_count": 48,
   "metadata": {
    "collapsed": false,
    "deletable": true,
    "editable": true
   },
   "outputs": [],
   "source": [
    "dbc_f = x -> (x ≈ Vec{3}((-1,-1,-1)) || x ≈ Vec{3}((1,1,1)))  ? true : false\n",
    "grid = compute_grid(10, dbc_f)\n",
    "dh = create_dofhandler(grid)\n",
    "\n",
    "cellvalues, facevalues = create_interpolations()\n",
    "\n",
    "# Boundary conditions\n",
    "eps = basevec(Vec{DIM}, 1) ⊗ basevec(Vec{DIM}, 2)\n",
    "ɛ_bar = 0.05 * (eps + eps')\n",
    "dbc = create_boundaryconditions(grid, dh, (x,t) -> ɛ_bar ⋅ x)\n",
    "\n",
    "K = create_sparsity_pattern(dh);\n",
    "E = create_stiffness();"
   ]
  },
  {
   "cell_type": "code",
   "execution_count": 49,
   "metadata": {
    "collapsed": false,
    "deletable": true,
    "editable": true
   },
   "outputs": [
    {
     "data": {
      "text/plain": [
       "([0.0,0.0,0.0,0.0,0.0,0.0,0.0,0.0,0.0,0.0  …  0.0,0.0,0.0,0.0,0.0,0.0,0.0,0.0,0.0,0.0],\n",
       "[0.000833333 0.0 … 0.0 0.0; 0.0 0.000833333 … 0.0 0.000833333; … ; 0.0 -0.00166667 … 0.0 -0.00166667; 0.0 0.0 … -0.00166667 0.0])"
      ]
     },
     "execution_count": 49,
     "metadata": {},
     "output_type": "execute_result"
    }
   ],
   "source": [
    "f, C = doassemble3!(cellvalues, facevalues, K, grid, dh, E)"
   ]
  },
  {
   "cell_type": "code",
   "execution_count": 50,
   "metadata": {
    "collapsed": false,
    "deletable": true,
    "editable": true
   },
   "outputs": [
    {
     "data": {
      "text/plain": [
       "6×9 Array{Float64,2}:\n",
       " -0.00166667    0.0           0.0          …   0.0           0.0        \n",
       "  0.0          -0.00166667    0.0              0.0          -0.00166667 \n",
       "  0.0           0.0          -0.00166667      -0.00166667    0.0        \n",
       "  0.000833333   0.0           0.0              0.0           0.0        \n",
       "  0.0           0.000833333   0.0              0.0           0.000833333\n",
       "  0.0           0.0           0.000833333  …   0.000833333   0.0        "
      ]
     },
     "execution_count": 50,
     "metadata": {},
     "output_type": "execute_result"
    }
   ],
   "source": [
    "#apply!(K, f, dbc)\n",
    "#uu = K \\ f\n",
    "fd = dbc.free_dofs\n",
    "pd = dbc.dofs\n",
    "up = dbc.values\n",
    "Kff = K[fd, fd]\n",
    "Kfp = K[fd, pd]\n",
    "Cf = C[fd, :]\n",
    "Cp = C[pd, :]"
   ]
  },
  {
   "cell_type": "code",
   "execution_count": 51,
   "metadata": {
    "collapsed": false,
    "deletable": true,
    "editable": true
   },
   "outputs": [
    {
     "data": {
      "text/plain": [
       "3996-element Array{Float64,1}:\n",
       " -8.01282e7\n",
       " -3.20513e7\n",
       " -1.60256e7\n",
       "  0.0      \n",
       "  0.0      \n",
       "  0.0      \n",
       "  0.0      \n",
       "  0.0      \n",
       "  0.0      \n",
       "  0.0      \n",
       "  0.0      \n",
       "  0.0      \n",
       "  0.0      \n",
       "  ⋮        \n",
       "  4.00641e7\n",
       " -8.01282e6\n",
       " -2.40385e7\n",
       "  0.000125 \n",
       "  0.000125 \n",
       " -0.0      \n",
       "  0.000125 \n",
       "  0.000125 \n",
       " -0.049875 \n",
       " -0.0      \n",
       " -0.0      \n",
       " -0.049875 "
      ]
     },
     "execution_count": 51,
     "metadata": {},
     "output_type": "execute_result"
    }
   ],
   "source": [
    "lhs = [Kff       Cf\n",
    "       Cf'   zeros(9,9)]\n",
    "rhs = [-Kfp * up\n",
    "       -tovoigt(ɛ_bar) - Cp' * up]"
   ]
  },
  {
   "cell_type": "code",
   "execution_count": 52,
   "metadata": {
    "collapsed": false,
    "deletable": true,
    "editable": true
   },
   "outputs": [
    {
     "data": {
      "text/plain": [
       "3987-element Array{Float64,1}:\n",
       " -0.0501064  \n",
       " -0.041526   \n",
       " -0.000102204\n",
       " -0.0496548  \n",
       " -0.0320329  \n",
       " -0.000456636\n",
       " -0.0490984  \n",
       " -0.0222959  \n",
       " -0.000655487\n",
       " -0.0485562  \n",
       " -0.0124384  \n",
       " -0.000749581\n",
       " -0.0480384  \n",
       "  ⋮          \n",
       "  0.052559   \n",
       "  0.00758191 \n",
       " -0.000841914\n",
       "  0.0519921  \n",
       "  0.0176831  \n",
       " -0.00077934 \n",
       "  0.0513507  \n",
       "  0.0279177  \n",
       " -0.000666551\n",
       "  0.05059    \n",
       "  0.0384232  \n",
       " -0.000477906"
      ]
     },
     "execution_count": 52,
     "metadata": {},
     "output_type": "execute_result"
    }
   ],
   "source": [
    "uf = lhs \\ rhs\n",
    "sigma = uf[end-8:end]\n",
    "uu    = uf[1:end-9];\n",
    "uu_full = zeros(ndofs(dh))\n",
    "uu_full[dbc.dofs] = dbc.values\n",
    "uu_full[dbc.free_dofs] = uu"
   ]
  },
  {
   "cell_type": "code",
   "execution_count": 53,
   "metadata": {
    "collapsed": false,
    "deletable": true,
    "editable": true
   },
   "outputs": [
    {
     "data": {
      "text/plain": [
       "3993-element Array{Float64,1}:\n",
       " -0.05       \n",
       " -0.05       \n",
       " -0.0        \n",
       " -0.0501064  \n",
       " -0.041526   \n",
       " -0.000102204\n",
       " -0.0496548  \n",
       " -0.0320329  \n",
       " -0.000456636\n",
       " -0.0490984  \n",
       " -0.0222959  \n",
       " -0.000655487\n",
       " -0.0485562  \n",
       "  ⋮          \n",
       "  0.0519921  \n",
       "  0.0176831  \n",
       " -0.00077934 \n",
       "  0.0513507  \n",
       "  0.0279177  \n",
       " -0.000666551\n",
       "  0.05059    \n",
       "  0.0384232  \n",
       " -0.000477906\n",
       "  0.05       \n",
       "  0.05       \n",
       "  0.0        "
      ]
     },
     "execution_count": 53,
     "metadata": {},
     "output_type": "execute_result"
    }
   ],
   "source": [
    "uu_full"
   ]
  },
  {
   "cell_type": "code",
   "execution_count": 59,
   "metadata": {
    "collapsed": false,
    "deletable": true,
    "editable": true
   },
   "outputs": [
    {
     "data": {
      "text/plain": [
       "3×3 Tensors.Tensor{2,3,Float64,9}:\n",
       "  1.57981e6   7.67225e9   1.50949e6\n",
       "  7.67225e9   1.57981e6   1.50949e6\n",
       " -1.37781e6  -1.37781e6  -1.40423e6"
      ]
     },
     "execution_count": 59,
     "metadata": {},
     "output_type": "execute_result"
    }
   ],
   "source": [
    "lhs = [K      C\n",
    "       C' zeros(9,9)]\n",
    "rhs   = [zeros(size(K,1)); -tovoigt(ɛ_bar)];\n",
    "apply!(lhs, rhs, dbc)\n",
    "u_σ   = lhs \\ rhs;\n",
    "sigma = u_σ[end-8:end]\n",
    "uu    = u_σ[1:end-9];\n",
    "\n",
    "#uu_full = zeros(ndofs(dh))\n",
    "#uu_full[dbc.dofs] = dbc.values\n",
    "#uu_full[dbc.free_dofs] = uu\n",
    "σ_bar = fromvoigt(Tensor{2,3}, sigma)"
   ]
  },
  {
   "cell_type": "code",
   "execution_count": 55,
   "metadata": {
    "collapsed": false,
    "deletable": true,
    "editable": true
   },
   "outputs": [
    {
     "data": {
      "text/plain": [
       "3993-element Array{Float64,1}:\n",
       " -0.05       \n",
       " -0.05       \n",
       " -0.0        \n",
       " -0.0501064  \n",
       " -0.041526   \n",
       " -0.000102204\n",
       " -0.0496548  \n",
       " -0.0320329  \n",
       " -0.000456636\n",
       " -0.0490984  \n",
       " -0.0222959  \n",
       " -0.000655487\n",
       " -0.0485562  \n",
       "  ⋮          \n",
       "  0.0519921  \n",
       "  0.0176831  \n",
       " -0.00077934 \n",
       "  0.0513507  \n",
       "  0.0279177  \n",
       " -0.000666551\n",
       "  0.05059    \n",
       "  0.0384232  \n",
       " -0.000477906\n",
       "  0.05       \n",
       "  0.05       \n",
       "  0.0        "
      ]
     },
     "execution_count": 55,
     "metadata": {},
     "output_type": "execute_result"
    }
   ],
   "source": [
    "uu"
   ]
  },
  {
   "cell_type": "code",
   "execution_count": 56,
   "metadata": {
    "collapsed": false,
    "deletable": true,
    "editable": true
   },
   "outputs": [
    {
     "name": "stderr",
     "output_type": "stream",
     "text": [
      "WARNING: Method definition check_residual2(JuAFEM.CellVectorValues{#dim<:Any, T<:Real, refshape<:JuAFEM.AbstractRefShape, M<:Any}, Any, Any, Any, JuAFEM.Grid, JuAFEM.DofHandler, Tensors.SymmetricTensor{4, #dim<:Any, T<:Real, M<:Any}) in module Main at In[13]:4 overwritten at In[56]:4.\n",
      "WARNING: Method definition compute_element_residual!(JuAFEM.CellVectorValues{#dim<:Any, T<:Real, refshape<:JuAFEM.AbstractRefShape, M<:Any}, Any, Any, Any, Any, Any, Any, JuAFEM.Grid, JuAFEM.DofHandler, Tensors.SymmetricTensor{4, #dim<:Any, T<:Real, M<:Any}) in module Main at In[13]:30 overwritten at In[56]:30.\n"
     ]
    },
    {
     "data": {
      "text/plain": [
       "compute_element_residual! (generic function with 1 method)"
      ]
     },
     "execution_count": 56,
     "metadata": {},
     "output_type": "execute_result"
    }
   ],
   "source": [
    "function check_residual2{dim}(cellvalues::CellVectorValues{dim}, \n",
    "                             σ_bar, ɛ_bar, u,  grid::Grid, dh::DofHandler, E::SymmetricTensor{4, dim})\n",
    "\n",
    "    residual_u = zeros(ndofs(dh))\n",
    "    residual_C = zeros(9)\n",
    "\n",
    "    n_basefuncs = getnbasefunctions(cellvalues)\n",
    "    global_dofs = zeros(Int, ndofs_per_cell(dh))\n",
    "\n",
    "    residual_ue = zeros(n_basefuncs) # Local stiffness mastrix\n",
    "    \n",
    "    Ω = 8\n",
    "    n_basefuncs = getnbasefunctions(cellvalues)\n",
    "    global_dofs = zeros(Int, ndofs_per_cell(dh))\n",
    "\n",
    "    ɛ = [zero(SymmetricTensor{2, dim}) for i in 1:n_basefuncs]\n",
    "    for cell in CellIterator(dh)\n",
    "        celldofs!(global_dofs, cell)\n",
    "        uu = u[global_dofs]\n",
    "        fill!(residual_ue, 0.0)\n",
    "        compute_element_residual!(cellvalues, cell, residual_ue, residual_C, σ_bar, ɛ_bar, uu,  grid, dh, E)\n",
    "        assemble!(residual_u, residual_ue, global_dofs)\n",
    "    end\n",
    "    return residual_u, residual_C\n",
    "end\n",
    "\n",
    "\n",
    "function compute_element_residual!{dim}(cellvalues::CellVectorValues{dim}, cell, residual_ue, residual_C,\n",
    "                                  σ_bar, ɛ_bar, uz,  grid::Grid, dh::DofHandler, E::SymmetricTensor{4, dim})\n",
    "    n_basefuncs = getnbasefunctions(cellvalues)\n",
    "    ɛ = [zero(SymmetricTensor{2, dim}) for i in 1:n_basefuncs]\n",
    "    uuv = reinterpret(Vec{3,Float64}, uz, (4,))\n",
    "    #σv = fromvoigt(Tensor{2, dim}, σ_bar)\n",
    "    Ω = 8\n",
    "    reinit!(cellvalues, cell)\n",
    "    for q_point in 1:getnquadpoints(cellvalues)\n",
    "        ∇u_qp = function_gradient(cellvalues, q_point, uuv)\n",
    "        ɛ_qp = symmetric(∇u_qp)\n",
    "        dΩ = getdetJdV(cellvalues, q_point)\n",
    "        residual_C .+= tovoigt(-1/Ω * (∇u_qp - ɛ_bar) * dΩ)\n",
    "        for i in 1:n_basefuncs\n",
    "            δ∇ui = shape_gradient(cellvalues, q_point, i)\n",
    "            δɛi = symmetric(shape_gradient(cellvalues, q_point, i))\n",
    "            residual_ue[i] += 1/Ω * (δɛi ⊡ E ⊡ ɛ_qp - σ_bar ⊡ δ∇ui) * dΩ\n",
    "        end\n",
    "    end\n",
    "end"
   ]
  },
  {
   "cell_type": "code",
   "execution_count": 57,
   "metadata": {
    "collapsed": false,
    "deletable": true,
    "editable": true
   },
   "outputs": [
    {
     "name": "stdout",
     "output_type": "stream",
     "text": [
      "  0.439975 seconds (553.75 k allocations: 22.442 MB, 21.08% gc time)\n"
     ]
    },
    {
     "data": {
      "text/plain": [
       "([7.62771e5,7.62771e5,-6.8088e5,-1316.51,-6.39355e6,1148.17,-1316.51,-6.39355e6,1148.17,-1316.51  …  1148.17,-1316.51,-6.39355e6,1148.17,-1316.51,-6.39355e6,1148.17,-7.62771e5,-7.62771e5,6.8088e5],[-2.53629e-7,-2.53629e-7,3.75131e-7,4.12799e-8,4.128e-8,0.000140261,1.67345e-7,1.67345e-7,0.000140261])"
      ]
     },
     "execution_count": 57,
     "metadata": {},
     "output_type": "execute_result"
    }
   ],
   "source": [
    "@time res_u, res_c = check_residual2(cellvalues, σ_bar, ɛ_bar, uu, grid, dh, E)"
   ]
  },
  {
   "cell_type": "code",
   "execution_count": 58,
   "metadata": {
    "collapsed": false,
    "deletable": true,
    "editable": true,
    "scrolled": true
   },
   "outputs": [
    {
     "data": {
      "text/plain": [
       "3987-element Array{Float64,1}:\n",
       " -1316.51     \n",
       "    -6.39355e6\n",
       "  1148.17     \n",
       " -1316.51     \n",
       "    -6.39355e6\n",
       "  1148.17     \n",
       " -1316.51     \n",
       "    -6.39355e6\n",
       "  1148.17     \n",
       " -1316.51     \n",
       "    -6.39355e6\n",
       "  1148.17     \n",
       " -1316.51     \n",
       "     ⋮        \n",
       " -1316.51     \n",
       "    -6.39355e6\n",
       "  1148.17     \n",
       " -1316.51     \n",
       "    -6.39355e6\n",
       "  1148.17     \n",
       " -1316.51     \n",
       "    -6.39355e6\n",
       "  1148.17     \n",
       " -1316.51     \n",
       "    -6.39355e6\n",
       "  1148.17     "
      ]
     },
     "execution_count": 58,
     "metadata": {},
     "output_type": "execute_result"
    }
   ],
   "source": [
    "res_u[dbc.free_dofs]"
   ]
  },
  {
   "cell_type": "code",
   "execution_count": 60,
   "metadata": {
    "collapsed": false,
    "deletable": true,
    "editable": true
   },
   "outputs": [
    {
     "name": "stderr",
     "output_type": "stream",
     "text": [
      "WARNING: Method definition check(JuAFEM.CellVectorValues{#dim<:Any, T<:Real, refshape<:JuAFEM.AbstractRefShape, M<:Any}, JuAFEM.DofHandler, Tensors.SymmetricTensor{4, #dim<:Any, T<:Real, M<:Any}, Array{T<:Any, 1}, Any, Any) in module Main at In[19]:5 overwritten at In[60]:5.\n"
     ]
    },
    {
     "data": {
      "text/plain": [
       "check (generic function with 1 method)"
      ]
     },
     "execution_count": 60,
     "metadata": {},
     "output_type": "execute_result"
    }
   ],
   "source": [
    "function check{dim}(cellvalues::CellVectorValues{dim}, \n",
    "                    dh::DofHandler, E::SymmetricTensor{4, dim},\n",
    "                    u::Vector, ɛ_list, σ_list)\n",
    "\n",
    "    global_dofs = zeros(Int, ndofs_per_cell(dh))\n",
    "    ɛ = zero(SymmetricTensor{2, dim})\n",
    "    σ = zero(SymmetricTensor{2, dim})\n",
    "    Ω = 0.0\n",
    "    for (cellcount, cell) in enumerate(CellIterator(dh))      \n",
    "        reinit!(cellvalues, cell)\n",
    "        celldofs!(global_dofs, cell)\n",
    "        uu = u[global_dofs]\n",
    "        for q_point in 1:getnquadpoints(cellvalues)\n",
    "            dΩ = getdetJdV(cellvalues, q_point)\n",
    "            ɛ_qp = symmetric(function_gradient(cellvalues, q_point, uu))\n",
    "            σ_qp = E ⊡ ɛ_qp\n",
    "            ɛ_list[cellcount] = ɛ_qp\n",
    "            σ_list[cellcount] = σ_qp\n",
    "            ɛ += ɛ_qp * dΩ\n",
    "            σ += σ_qp * dΩ\n",
    "            Ω += dΩ\n",
    "        end\n",
    "    end\n",
    "    println(Ω)\n",
    "    return ɛ, σ\n",
    "end"
   ]
  },
  {
   "cell_type": "code",
   "execution_count": 61,
   "metadata": {
    "collapsed": false,
    "deletable": true,
    "editable": true
   },
   "outputs": [
    {
     "data": {
      "text/plain": [
       "3×3 Tensors.SymmetricTensor{2,3,Float64,6}:\n",
       "  2.02903e-6   0.398878    -8.34501e-7\n",
       "  0.398878     2.02903e-6  -8.34501e-7\n",
       " -8.34501e-7  -8.34501e-7  -3.00105e-6"
      ]
     },
     "metadata": {},
     "output_type": "display_data"
    },
    {
     "data": {
      "text/plain": [
       "3×3 Tensors.SymmetricTensor{2,3,Float64,6}:\n",
       "  4.34121e5    6.13658e10  -1.28385e5\n",
       "  6.13658e10   4.34121e5   -1.28385e5\n",
       " -1.28385e5   -1.28385e5   -3.39738e5"
      ]
     },
     "metadata": {},
     "output_type": "display_data"
    },
    {
     "name": "stdout",
     "output_type": "stream",
     "text": [
      "8.00000000000276\n"
     ]
    }
   ],
   "source": [
    "ɛ_list = fill(zero(SymmetricTensor{2,3}), getncells(grid));\n",
    "σ_list = fill(zero(SymmetricTensor{2,3}), getncells(grid));\n",
    "ɛ_box, σ_box = check(cellvalues, dh, E, uu, ɛ_list, σ_list)\n",
    "display(ɛ_box)\n",
    "display(σ_box)"
   ]
  },
  {
   "cell_type": "code",
   "execution_count": 26,
   "metadata": {
    "collapsed": false,
    "deletable": true,
    "editable": true
   },
   "outputs": [
    {
     "data": {
      "text/plain": [
       "6×5000 Array{Float64,2}:\n",
       " -0.000531975   0.00663498   0.00398997  …  -0.00884784   -0.0029498  \n",
       "  0.0423699     0.0495368    0.0468918       0.0549352     0.0549352  \n",
       "  0.00205596   -2.93551e-5   0.00189942     -0.00314887   -0.000290439\n",
       " -0.000531975   0.00663498   0.00398997     -0.0029498    -0.00884784 \n",
       "  0.00205596   -2.93551e-5   0.00189942     -0.000290439  -0.00314887 \n",
       "  0.00112563   -0.00249688  -0.00370941  …   0.00396113    0.00396113 "
      ]
     },
     "execution_count": 26,
     "metadata": {},
     "output_type": "execute_result"
    }
   ],
   "source": [
    "σf = reinterpret(Float64, σ_list, (6, getncells(grid)));\n",
    "ɛf = reinterpret(Float64, ɛ_list, (6, getncells(grid)))\n"
   ]
  },
  {
   "cell_type": "code",
   "execution_count": 29,
   "metadata": {
    "collapsed": false,
    "deletable": true,
    "editable": true
   },
   "outputs": [
    {
     "data": {
      "text/plain": [
       "1-element Array{String,1}:\n",
       " \"homo.vtu\""
      ]
     },
     "execution_count": 29,
     "metadata": {},
     "output_type": "execute_result"
    }
   ],
   "source": [
    "# Save file\n",
    "vtkfile = vtk_grid(\"homo\", dh, uu)\n",
    "vtk_cell_data(vtkfile, ɛf, \"strain\")\n",
    "vtk_cell_data(vtkfile, σf, \"stress\")\n",
    "vtk_save(vtkfile)"
   ]
  },
  {
   "cell_type": "code",
   "execution_count": 23,
   "metadata": {
    "collapsed": false,
    "deletable": true,
    "editable": true
   },
   "outputs": [
    {
     "ename": "LoadError",
     "evalue": "\u001b[1m\u001b[31merror in method definition: function JuAFEM.assemble! must be explicitly imported to be extended\u001b[0m",
     "output_type": "error",
     "traceback": [
      "\u001b[1m\u001b[31merror in method definition: function JuAFEM.assemble! must be explicitly imported to be extended\u001b[0m",
      ""
     ]
    }
   ],
   "source": [
    "# Unknowns σ_bar, ɛ_bar\n",
    "function assemble!{dim}(cellvalues::CellVectorValues{dim}, \n",
    "                        σ_bar, ɛ_bar, u,  grid::Grid, dh::DofHandler, E::SymmetricTensor{4, dim})\n",
    "\n",
    "    # Global matrices and residuals\n",
    "    residual_u = zeros(ndofs(dh))\n",
    "    residual_C = zeros(ndofs(dh), 9)\n",
    "    assembler = start_assemble(K, residual_u)\n",
    "    \n",
    "    # Local matrices and residual\n",
    "    n_basefuncs = getnbasefunctions(cellvalues)\n",
    "    global_dofs = zeros(Int, ndofs_per_cell(dh))\n",
    "\n",
    "    residual_ue = zeros(n_basefuncs) # Local stiffness mastrix\n",
    "    residual_Ce = zeros(n_basefuncs, 9)\n",
    "    \n",
    "    Ω = 8\n",
    "\n",
    "    δɛ = [zero(SymmetricTensor{2, dim}) for i in 1:n_basefuncs]\n",
    "    ∇δu = [zero(Tensor{2, dim}) for i in 1:n_basefuncs]\n",
    "    for cell in CellIterator(dh)\n",
    "        reinit!(cellvalues, cell)\n",
    "        celldofs!(global_dofs, cell)\n",
    "        uu = u[global_dofs]\n",
    "        uuv = reinterpret(Vec{3,Float64}, uu, (4,))\n",
    "        for q_point in 1:getnquadpoints(cellvalues)\n",
    "            for i in 1:n_basefuncs\n",
    "                δɛ[i] = symmetric(shape_gradient(cellvalues, q_point, i)) \n",
    "                ∇δu[i] = shape_gradient(cellvalues, q_point, i)\n",
    "            end\n",
    "            \n",
    "            ɛ_qp = symmetric(function_gradient(cellvalues, q_point, uuv))\n",
    "            σ_qp = E ⊡ ɛ_qp\n",
    "            dΩ = getdetJdV(cellvalues, q_point)\n",
    "            for i in 1:n_basefuncs\n",
    "                Ce[i, :] += -1 / Ω * tovoigt(0.5*(∇u[i] + ∇u[i]) * dΩ)\n",
    "                residual_ue[i] += 1/Ω * (σ_qp ⊡ ɛ[i] - σ_bar ⊡ (ɛ[i] - ɛ_bar)) * dΩ\n",
    "                \n",
    "                residual_Ce[i, :] .+= tovoigt(-1/Ω * (ɛ_qp - ɛ_bar) * dΩ)\n",
    "            end\n",
    "        end\n",
    "        for (i, dof) in enumerate(global_dofs)\n",
    "            residual_C[dof, :] += residual_Ce[i, :]\n",
    "        end\n",
    "        assemble!(residual_u, residual_ue, global_dofs)\n",
    "    end\n",
    "    return residual_u, residual_C\n",
    "end"
   ]
  }
 ],
 "metadata": {
  "anaconda-cloud": {},
  "kernelspec": {
   "display_name": "Julia 0.5.1",
   "language": "julia",
   "name": "julia-0.5"
  },
  "language_info": {
   "file_extension": ".jl",
   "mimetype": "application/julia",
   "name": "julia",
   "version": "0.6.0"
  }
 },
 "nbformat": 4,
 "nbformat_minor": 2
}
